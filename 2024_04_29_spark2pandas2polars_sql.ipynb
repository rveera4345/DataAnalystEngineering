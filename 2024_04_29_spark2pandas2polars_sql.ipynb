{
 "cells": [
  {
   "cell_type": "code",
   "execution_count": 0,
   "metadata": {
    "application/vnd.databricks.v1+cell": {
     "cellMetadata": {
      "byteLimit": 2048000,
      "rowLimit": 10000
     },
     "inputWidgets": {},
     "nuid": "2e3ab717-de73-4bb1-bf77-98bbc2c18ac6",
     "showTitle": false,
     "title": ""
    }
   },
   "outputs": [
    {
     "output_type": "stream",
     "name": "stdout",
     "output_type": "stream",
     "text": [
      "Python interpreter will be restarted.\nCollecting polars-lts-cpu\n  Downloading polars_lts_cpu-0.20.23-cp38-abi3-manylinux_2_17_x86_64.manylinux2014_x86_64.whl (26.5 MB)\nInstalling collected packages: polars-lts-cpu\nSuccessfully installed polars-lts-cpu-0.20.23\nPython interpreter will be restarted.\n"
     ]
    }
   ],
   "source": [
    "%pip install polars-lts-cpu"
   ]
  },
  {
   "cell_type": "code",
   "execution_count": 0,
   "metadata": {
    "application/vnd.databricks.v1+cell": {
     "cellMetadata": {
      "byteLimit": 2048000,
      "rowLimit": 10000
     },
     "inputWidgets": {},
     "nuid": "c42e272b-af8d-42ac-8008-7906b36eaef4",
     "showTitle": false,
     "title": ""
    }
   },
   "outputs": [
    {
     "output_type": "display_data",
     "data": {
      "text/html": [
       "<style scoped>\n",
       "  .table-result-container {\n",
       "    max-height: 300px;\n",
       "    overflow: auto;\n",
       "  }\n",
       "  table, th, td {\n",
       "    border: 1px solid black;\n",
       "    border-collapse: collapse;\n",
       "  }\n",
       "  th, td {\n",
       "    padding: 5px;\n",
       "  }\n",
       "  th {\n",
       "    text-align: left;\n",
       "  }\n",
       "</style><div class='table-result-container'><table class='table-result'><thead style='background-color: white'><tr><th>path</th><th>name</th><th>size</th><th>modificationTime</th></tr></thead><tbody><tr><td>dbfs:/FileStore/tables/veera/Customer.csv</td><td>Customer.csv</td><td>65558</td><td>1714409597000</td></tr><tr><td>dbfs:/FileStore/tables/veera/Product.csv</td><td>Product.csv</td><td>142954</td><td>1714409598000</td></tr><tr><td>dbfs:/FileStore/tables/veera/Sales.csv</td><td>Sales.csv</td><td>1007318</td><td>1714409598000</td></tr><tr><td>dbfs:/FileStore/tables/veera/application_data_1lakh.csv</td><td>application_data_1lakh.csv</td><td>76523094</td><td>1714138725000</td></tr></tbody></table></div>"
      ]
     },
     "metadata": {
      "application/vnd.databricks.v1+output": {
       "addedWidgets": {},
       "aggData": [],
       "aggError": "",
       "aggOverflow": false,
       "aggSchema": [],
       "aggSeriesLimitReached": false,
       "aggType": "",
       "arguments": {},
       "columnCustomDisplayInfos": {},
       "data": [
        [
         "dbfs:/FileStore/tables/veera/Customer.csv",
         "Customer.csv",
         65558,
         1714409597000
        ],
        [
         "dbfs:/FileStore/tables/veera/Product.csv",
         "Product.csv",
         142954,
         1714409598000
        ],
        [
         "dbfs:/FileStore/tables/veera/Sales.csv",
         "Sales.csv",
         1007318,
         1714409598000
        ],
        [
         "dbfs:/FileStore/tables/veera/application_data_1lakh.csv",
         "application_data_1lakh.csv",
         76523094,
         1714138725000
        ]
       ],
       "datasetInfos": [],
       "dbfsResultPath": null,
       "isJsonSchema": true,
       "metadata": {
        "isDbfsCommandResult": false
       },
       "overflow": false,
       "plotOptions": {
        "customPlotOptions": {},
        "displayType": "table",
        "pivotAggregation": null,
        "pivotColumns": null,
        "xColumns": null,
        "yColumns": null
       },
       "removedWidgets": [],
       "schema": [
        {
         "metadata": "{}",
         "name": "path",
         "type": "\"string\""
        },
        {
         "metadata": "{}",
         "name": "name",
         "type": "\"string\""
        },
        {
         "metadata": "{}",
         "name": "size",
         "type": "\"long\""
        },
        {
         "metadata": "{}",
         "name": "modificationTime",
         "type": "\"long\""
        }
       ],
       "type": "table"
      }
     },
     "output_type": "display_data"
    }
   ],
   "source": [
    "%fs ls /FileStore/tables/veera"
   ]
  },
  {
   "cell_type": "code",
   "execution_count": 0,
   "metadata": {
    "application/vnd.databricks.v1+cell": {
     "cellMetadata": {
      "byteLimit": 2048000,
      "rowLimit": 10000
     },
     "inputWidgets": {},
     "nuid": "f7240af6-456b-4ed0-a47b-687e2b484c81",
     "showTitle": false,
     "title": ""
    }
   },
   "outputs": [
    {
     "output_type": "stream",
     "name": "stdout",
     "output_type": "stream",
     "text": [
      "Out[1]: [Row(CustomerID='CG-12520', CustomerName='Claire Gute', Segment='Consumer', Age=67, Country='United States', City='Henderson', State='Kentucky', PostalCode=42420, Region='South'),\n Row(CustomerID='DV-13045', CustomerName='Darrin Van Huff', Segment='Corporate', Age=31, Country='United States', City='Los Angeles', State='California', PostalCode=90036, Region='West'),\n Row(CustomerID='SO-20335', CustomerName=\"Sean O'Donnell\", Segment='Consumer', Age=65, Country='United States', City='Fort Lauderdale', State='Florida', PostalCode=33311, Region='South'),\n Row(CustomerID='BH-11710', CustomerName='Brosina Hoffman', Segment='Consumer', Age=20, Country='United States', City='Los Angeles', State='California', PostalCode=90032, Region='West'),\n Row(CustomerID='AA-10480', CustomerName='Andrew Allen', Segment='Consumer', Age=50, Country='United States', City='Concord', State='North Carolina', PostalCode=28027, Region='South'),\n Row(CustomerID='IM-15070', CustomerName='Irene Maddox', Segment='Consumer', Age=66, Country='United States', City='Seattle', State='Washington', PostalCode=98103, Region='West'),\n Row(CustomerID='HP-14815', CustomerName='Harold Pawlan', Segment='Home Office', Age=20, Country='United States', City='Fort Worth', State='Texas', PostalCode=76106, Region='Central')]"
     ]
    }
   ],
   "source": [
    "spark_df_customer = spark.read.csv(\"/FileStore/tables/veera/Customer.csv\", header=True, inferSchema=True)\n",
    "spark_df_customer.head(7)"
   ]
  },
  {
   "cell_type": "code",
   "execution_count": 0,
   "metadata": {
    "application/vnd.databricks.v1+cell": {
     "cellMetadata": {
      "byteLimit": 2048000,
      "rowLimit": 10000
     },
     "inputWidgets": {},
     "nuid": "c77aabb8-1ee7-4c4a-ad79-2824ae11c7e3",
     "showTitle": false,
     "title": ""
    }
   },
   "outputs": [
    {
     "output_type": "display_data",
     "data": {
      "text/html": [
       "<div>\n",
       "<style scoped>\n",
       "    .dataframe tbody tr th:only-of-type {\n",
       "        vertical-align: middle;\n",
       "    }\n",
       "\n",
       "    .dataframe tbody tr th {\n",
       "        vertical-align: top;\n",
       "    }\n",
       "\n",
       "    .dataframe thead th {\n",
       "        text-align: right;\n",
       "    }\n",
       "</style>\n",
       "<table border=\"1\" class=\"dataframe\">\n",
       "  <thead>\n",
       "    <tr style=\"text-align: right;\">\n",
       "      <th></th>\n",
       "      <th>CustomerID</th>\n",
       "      <th>CustomerName</th>\n",
       "      <th>Segment</th>\n",
       "      <th>Age</th>\n",
       "      <th>Country</th>\n",
       "      <th>City</th>\n",
       "      <th>State</th>\n",
       "      <th>PostalCode</th>\n",
       "      <th>Region</th>\n",
       "    </tr>\n",
       "  </thead>\n",
       "  <tbody>\n",
       "    <tr>\n",
       "      <th>0</th>\n",
       "      <td>CG-12520</td>\n",
       "      <td>Claire Gute</td>\n",
       "      <td>Consumer</td>\n",
       "      <td>67</td>\n",
       "      <td>United States</td>\n",
       "      <td>Henderson</td>\n",
       "      <td>Kentucky</td>\n",
       "      <td>42420</td>\n",
       "      <td>South</td>\n",
       "    </tr>\n",
       "    <tr>\n",
       "      <th>1</th>\n",
       "      <td>DV-13045</td>\n",
       "      <td>Darrin Van Huff</td>\n",
       "      <td>Corporate</td>\n",
       "      <td>31</td>\n",
       "      <td>United States</td>\n",
       "      <td>Los Angeles</td>\n",
       "      <td>California</td>\n",
       "      <td>90036</td>\n",
       "      <td>West</td>\n",
       "    </tr>\n",
       "    <tr>\n",
       "      <th>2</th>\n",
       "      <td>SO-20335</td>\n",
       "      <td>Sean O'Donnell</td>\n",
       "      <td>Consumer</td>\n",
       "      <td>65</td>\n",
       "      <td>United States</td>\n",
       "      <td>Fort Lauderdale</td>\n",
       "      <td>Florida</td>\n",
       "      <td>33311</td>\n",
       "      <td>South</td>\n",
       "    </tr>\n",
       "    <tr>\n",
       "      <th>3</th>\n",
       "      <td>BH-11710</td>\n",
       "      <td>Brosina Hoffman</td>\n",
       "      <td>Consumer</td>\n",
       "      <td>20</td>\n",
       "      <td>United States</td>\n",
       "      <td>Los Angeles</td>\n",
       "      <td>California</td>\n",
       "      <td>90032</td>\n",
       "      <td>West</td>\n",
       "    </tr>\n",
       "    <tr>\n",
       "      <th>4</th>\n",
       "      <td>AA-10480</td>\n",
       "      <td>Andrew Allen</td>\n",
       "      <td>Consumer</td>\n",
       "      <td>50</td>\n",
       "      <td>United States</td>\n",
       "      <td>Concord</td>\n",
       "      <td>North Carolina</td>\n",
       "      <td>28027</td>\n",
       "      <td>South</td>\n",
       "    </tr>\n",
       "  </tbody>\n",
       "</table>\n",
       "</div>"
      ]
     },
     "metadata": {
      "application/vnd.databricks.v1+output": {
       "addedWidgets": {},
       "arguments": {},
       "data": "<div>\n<style scoped>\n    .dataframe tbody tr th:only-of-type {\n        vertical-align: middle;\n    }\n\n    .dataframe tbody tr th {\n        vertical-align: top;\n    }\n\n    .dataframe thead th {\n        text-align: right;\n    }\n</style>\n<table border=\"1\" class=\"dataframe\">\n  <thead>\n    <tr style=\"text-align: right;\">\n      <th></th>\n      <th>CustomerID</th>\n      <th>CustomerName</th>\n      <th>Segment</th>\n      <th>Age</th>\n      <th>Country</th>\n      <th>City</th>\n      <th>State</th>\n      <th>PostalCode</th>\n      <th>Region</th>\n    </tr>\n  </thead>\n  <tbody>\n    <tr>\n      <th>0</th>\n      <td>CG-12520</td>\n      <td>Claire Gute</td>\n      <td>Consumer</td>\n      <td>67</td>\n      <td>United States</td>\n      <td>Henderson</td>\n      <td>Kentucky</td>\n      <td>42420</td>\n      <td>South</td>\n    </tr>\n    <tr>\n      <th>1</th>\n      <td>DV-13045</td>\n      <td>Darrin Van Huff</td>\n      <td>Corporate</td>\n      <td>31</td>\n      <td>United States</td>\n      <td>Los Angeles</td>\n      <td>California</td>\n      <td>90036</td>\n      <td>West</td>\n    </tr>\n    <tr>\n      <th>2</th>\n      <td>SO-20335</td>\n      <td>Sean O'Donnell</td>\n      <td>Consumer</td>\n      <td>65</td>\n      <td>United States</td>\n      <td>Fort Lauderdale</td>\n      <td>Florida</td>\n      <td>33311</td>\n      <td>South</td>\n    </tr>\n    <tr>\n      <th>3</th>\n      <td>BH-11710</td>\n      <td>Brosina Hoffman</td>\n      <td>Consumer</td>\n      <td>20</td>\n      <td>United States</td>\n      <td>Los Angeles</td>\n      <td>California</td>\n      <td>90032</td>\n      <td>West</td>\n    </tr>\n    <tr>\n      <th>4</th>\n      <td>AA-10480</td>\n      <td>Andrew Allen</td>\n      <td>Consumer</td>\n      <td>50</td>\n      <td>United States</td>\n      <td>Concord</td>\n      <td>North Carolina</td>\n      <td>28027</td>\n      <td>South</td>\n    </tr>\n  </tbody>\n</table>\n</div>",
       "datasetInfos": [],
       "metadata": {},
       "removedWidgets": [],
       "textData": null,
       "type": "htmlSandbox"
      }
     },
     "output_type": "display_data"
    }
   ],
   "source": [
    "# to pandas\n",
    "pandas_df_customer = spark_df_customer.toPandas()\n",
    "pandas_df_customer.head(5)"
   ]
  },
  {
   "cell_type": "code",
   "execution_count": 0,
   "metadata": {
    "application/vnd.databricks.v1+cell": {
     "cellMetadata": {
      "byteLimit": 2048000,
      "rowLimit": 10000
     },
     "inputWidgets": {},
     "nuid": "a8c44b17-43d7-4faf-aac9-71255dcb60b1",
     "showTitle": false,
     "title": ""
    }
   },
   "outputs": [],
   "source": [
    "# to polars\n",
    "import polars as pl"
   ]
  },
  {
   "cell_type": "code",
   "execution_count": 0,
   "metadata": {
    "application/vnd.databricks.v1+cell": {
     "cellMetadata": {
      "byteLimit": 2048000,
      "rowLimit": 10000
     },
     "inputWidgets": {},
     "nuid": "2df4f258-d6e9-4eb9-95ec-b433f3a69e37",
     "showTitle": false,
     "title": ""
    }
   },
   "outputs": [
    {
     "output_type": "display_data",
     "data": {
      "text/html": [
       "<div><style>\n",
       ".dataframe > thead > tr,\n",
       ".dataframe > tbody > tr {\n",
       "  text-align: right;\n",
       "  white-space: pre-wrap;\n",
       "}\n",
       "</style>\n",
       "<small>shape: (5, 9)</small><table border=\"1\" class=\"dataframe\"><thead><tr><th>CustomerID</th><th>CustomerName</th><th>Segment</th><th>Age</th><th>Country</th><th>City</th><th>State</th><th>PostalCode</th><th>Region</th></tr><tr><td>str</td><td>str</td><td>str</td><td>i32</td><td>str</td><td>str</td><td>str</td><td>i32</td><td>str</td></tr></thead><tbody><tr><td>&quot;CG-12520&quot;</td><td>&quot;Claire Gute&quot;</td><td>&quot;Consumer&quot;</td><td>67</td><td>&quot;United States&quot;</td><td>&quot;Henderson&quot;</td><td>&quot;Kentucky&quot;</td><td>42420</td><td>&quot;South&quot;</td></tr><tr><td>&quot;DV-13045&quot;</td><td>&quot;Darrin Van Huff&quot;</td><td>&quot;Corporate&quot;</td><td>31</td><td>&quot;United States&quot;</td><td>&quot;Los Angeles&quot;</td><td>&quot;California&quot;</td><td>90036</td><td>&quot;West&quot;</td></tr><tr><td>&quot;SO-20335&quot;</td><td>&quot;Sean O&#x27;Donnell&quot;</td><td>&quot;Consumer&quot;</td><td>65</td><td>&quot;United States&quot;</td><td>&quot;Fort Lauderdale&quot;</td><td>&quot;Florida&quot;</td><td>33311</td><td>&quot;South&quot;</td></tr><tr><td>&quot;BH-11710&quot;</td><td>&quot;Brosina Hoffman&quot;</td><td>&quot;Consumer&quot;</td><td>20</td><td>&quot;United States&quot;</td><td>&quot;Los Angeles&quot;</td><td>&quot;California&quot;</td><td>90032</td><td>&quot;West&quot;</td></tr><tr><td>&quot;AA-10480&quot;</td><td>&quot;Andrew Allen&quot;</td><td>&quot;Consumer&quot;</td><td>50</td><td>&quot;United States&quot;</td><td>&quot;Concord&quot;</td><td>&quot;North Carolina&quot;</td><td>28027</td><td>&quot;South&quot;</td></tr></tbody></table></div>"
      ]
     },
     "metadata": {
      "application/vnd.databricks.v1+output": {
       "addedWidgets": {},
       "arguments": {},
       "data": "<div><style>\n.dataframe > thead > tr,\n.dataframe > tbody > tr {\n  text-align: right;\n  white-space: pre-wrap;\n}\n</style>\n<small>shape: (5, 9)</small><table border=\"1\" class=\"dataframe\"><thead><tr><th>CustomerID</th><th>CustomerName</th><th>Segment</th><th>Age</th><th>Country</th><th>City</th><th>State</th><th>PostalCode</th><th>Region</th></tr><tr><td>str</td><td>str</td><td>str</td><td>i32</td><td>str</td><td>str</td><td>str</td><td>i32</td><td>str</td></tr></thead><tbody><tr><td>&quot;CG-12520&quot;</td><td>&quot;Claire Gute&quot;</td><td>&quot;Consumer&quot;</td><td>67</td><td>&quot;United States&quot;</td><td>&quot;Henderson&quot;</td><td>&quot;Kentucky&quot;</td><td>42420</td><td>&quot;South&quot;</td></tr><tr><td>&quot;DV-13045&quot;</td><td>&quot;Darrin Van Huff&quot;</td><td>&quot;Corporate&quot;</td><td>31</td><td>&quot;United States&quot;</td><td>&quot;Los Angeles&quot;</td><td>&quot;California&quot;</td><td>90036</td><td>&quot;West&quot;</td></tr><tr><td>&quot;SO-20335&quot;</td><td>&quot;Sean O&#x27;Donnell&quot;</td><td>&quot;Consumer&quot;</td><td>65</td><td>&quot;United States&quot;</td><td>&quot;Fort Lauderdale&quot;</td><td>&quot;Florida&quot;</td><td>33311</td><td>&quot;South&quot;</td></tr><tr><td>&quot;BH-11710&quot;</td><td>&quot;Brosina Hoffman&quot;</td><td>&quot;Consumer&quot;</td><td>20</td><td>&quot;United States&quot;</td><td>&quot;Los Angeles&quot;</td><td>&quot;California&quot;</td><td>90032</td><td>&quot;West&quot;</td></tr><tr><td>&quot;AA-10480&quot;</td><td>&quot;Andrew Allen&quot;</td><td>&quot;Consumer&quot;</td><td>50</td><td>&quot;United States&quot;</td><td>&quot;Concord&quot;</td><td>&quot;North Carolina&quot;</td><td>28027</td><td>&quot;South&quot;</td></tr></tbody></table></div>",
       "datasetInfos": [],
       "metadata": {},
       "removedWidgets": [],
       "textData": null,
       "type": "htmlSandbox"
      }
     },
     "output_type": "display_data"
    }
   ],
   "source": [
    "polars_df_customer = pl.from_pandas(pandas_df_customer)\n",
    "polars_df_customer.head(5)"
   ]
  },
  {
   "cell_type": "code",
   "execution_count": 0,
   "metadata": {
    "application/vnd.databricks.v1+cell": {
     "cellMetadata": {
      "byteLimit": 2048000,
      "rowLimit": 10000
     },
     "inputWidgets": {},
     "nuid": "bbc0b4f9-c129-419c-b685-7bbb659c0f84",
     "showTitle": false,
     "title": ""
    }
   },
   "outputs": [
    {
     "output_type": "display_data",
     "data": {
      "text/html": [
       "<div><style>\n",
       ".dataframe > thead > tr,\n",
       ".dataframe > tbody > tr {\n",
       "  text-align: right;\n",
       "  white-space: pre-wrap;\n",
       "}\n",
       "</style>\n",
       "<small>shape: (5, 4)</small><table border=\"1\" class=\"dataframe\"><thead><tr><th>Product ID</th><th>Category</th><th>Sub-Category</th><th>Product Name</th></tr><tr><td>str</td><td>str</td><td>str</td><td>str</td></tr></thead><tbody><tr><td>&quot;FUR-BO-10001798&quot;</td><td>&quot;Furniture&quot;</td><td>&quot;Bookcases&quot;</td><td>&quot;Bush Somerset Collection Bookc…</td></tr><tr><td>&quot;FUR-CH-10000454&quot;</td><td>&quot;Furniture&quot;</td><td>&quot;Chairs&quot;</td><td>&quot;Hon Deluxe Fabric Upholstered …</td></tr><tr><td>&quot;OFF-LA-10000240&quot;</td><td>&quot;Office Supplies&quot;</td><td>&quot;Labels&quot;</td><td>&quot;Self-Adhesive Address Labels f…</td></tr><tr><td>&quot;FUR-TA-10000577&quot;</td><td>&quot;Furniture&quot;</td><td>&quot;Tables&quot;</td><td>&quot;Bretford CR4500 Series Slim Re…</td></tr><tr><td>&quot;OFF-ST-10000760&quot;</td><td>&quot;Office Supplies&quot;</td><td>&quot;Storage&quot;</td><td>&quot;Eldon Fold N Roll Cart System&quot;</td></tr></tbody></table></div>"
      ]
     },
     "metadata": {
      "application/vnd.databricks.v1+output": {
       "addedWidgets": {},
       "arguments": {},
       "data": "<div><style>\n.dataframe > thead > tr,\n.dataframe > tbody > tr {\n  text-align: right;\n  white-space: pre-wrap;\n}\n</style>\n<small>shape: (5, 4)</small><table border=\"1\" class=\"dataframe\"><thead><tr><th>Product ID</th><th>Category</th><th>Sub-Category</th><th>Product Name</th></tr><tr><td>str</td><td>str</td><td>str</td><td>str</td></tr></thead><tbody><tr><td>&quot;FUR-BO-10001798&quot;</td><td>&quot;Furniture&quot;</td><td>&quot;Bookcases&quot;</td><td>&quot;Bush Somerset Collection Bookc…</td></tr><tr><td>&quot;FUR-CH-10000454&quot;</td><td>&quot;Furniture&quot;</td><td>&quot;Chairs&quot;</td><td>&quot;Hon Deluxe Fabric Upholstered …</td></tr><tr><td>&quot;OFF-LA-10000240&quot;</td><td>&quot;Office Supplies&quot;</td><td>&quot;Labels&quot;</td><td>&quot;Self-Adhesive Address Labels f…</td></tr><tr><td>&quot;FUR-TA-10000577&quot;</td><td>&quot;Furniture&quot;</td><td>&quot;Tables&quot;</td><td>&quot;Bretford CR4500 Series Slim Re…</td></tr><tr><td>&quot;OFF-ST-10000760&quot;</td><td>&quot;Office Supplies&quot;</td><td>&quot;Storage&quot;</td><td>&quot;Eldon Fold N Roll Cart System&quot;</td></tr></tbody></table></div>",
       "datasetInfos": [],
       "metadata": {},
       "removedWidgets": [],
       "textData": null,
       "type": "htmlSandbox"
      }
     },
     "output_type": "display_data"
    }
   ],
   "source": [
    "spark_df_products = spark.read.csv(\"/FileStore/tables/veera/Product.csv\", header=True, inferSchema=True)\n",
    "pandas_df_products = spark_df_products.toPandas()\n",
    "polars_df_products = pl.from_pandas(pandas_df_products)\n",
    "polars_df_products.head(5)"
   ]
  },
  {
   "cell_type": "code",
   "execution_count": 0,
   "metadata": {
    "application/vnd.databricks.v1+cell": {
     "cellMetadata": {
      "byteLimit": 2048000,
      "rowLimit": 10000
     },
     "inputWidgets": {},
     "nuid": "54eff029-5927-4215-928b-44d1994b4e01",
     "showTitle": false,
     "title": ""
    }
   },
   "outputs": [
    {
     "output_type": "display_data",
     "data": {
      "text/html": [
       "<div><style>\n",
       ".dataframe > thead > tr,\n",
       ".dataframe > tbody > tr {\n",
       "  text-align: right;\n",
       "  white-space: pre-wrap;\n",
       "}\n",
       "</style>\n",
       "<small>shape: (5, 11)</small><table border=\"1\" class=\"dataframe\"><thead><tr><th>Order Line</th><th>Order ID</th><th>Order Date</th><th>Ship Date</th><th>Ship Mode</th><th>Customer ID</th><th>Product ID</th><th>Sales</th><th>Quantity</th><th>Discount</th><th>Profit</th></tr><tr><td>i32</td><td>str</td><td>date</td><td>date</td><td>str</td><td>str</td><td>str</td><td>f64</td><td>i32</td><td>f64</td><td>f64</td></tr></thead><tbody><tr><td>1</td><td>&quot;CA-2016-152156&quot;</td><td>2016-11-08</td><td>2016-11-11</td><td>&quot;Second Class&quot;</td><td>&quot;CG-12520&quot;</td><td>&quot;FUR-BO-10001798&quot;</td><td>261.96</td><td>2</td><td>0.0</td><td>41.9136</td></tr><tr><td>2</td><td>&quot;CA-2016-152156&quot;</td><td>2016-11-08</td><td>2016-11-11</td><td>&quot;Second Class&quot;</td><td>&quot;CG-12520&quot;</td><td>&quot;FUR-CH-10000454&quot;</td><td>731.94</td><td>3</td><td>0.0</td><td>219.582</td></tr><tr><td>3</td><td>&quot;CA-2016-138688&quot;</td><td>2016-06-12</td><td>2016-06-16</td><td>&quot;Second Class&quot;</td><td>&quot;DV-13045&quot;</td><td>&quot;OFF-LA-10000240&quot;</td><td>14.62</td><td>2</td><td>0.0</td><td>6.8714</td></tr><tr><td>4</td><td>&quot;US-2015-108966&quot;</td><td>2015-10-11</td><td>2015-10-18</td><td>&quot;Standard Class&quot;</td><td>&quot;SO-20335&quot;</td><td>&quot;FUR-TA-10000577&quot;</td><td>957.5775</td><td>5</td><td>0.45</td><td>-383.031</td></tr><tr><td>5</td><td>&quot;US-2015-108966&quot;</td><td>2015-10-11</td><td>2015-10-18</td><td>&quot;Standard Class&quot;</td><td>&quot;SO-20335&quot;</td><td>&quot;OFF-ST-10000760&quot;</td><td>22.368</td><td>2</td><td>0.2</td><td>2.5164</td></tr></tbody></table></div>"
      ]
     },
     "metadata": {
      "application/vnd.databricks.v1+output": {
       "addedWidgets": {},
       "arguments": {},
       "data": "<div><style>\n.dataframe > thead > tr,\n.dataframe > tbody > tr {\n  text-align: right;\n  white-space: pre-wrap;\n}\n</style>\n<small>shape: (5, 11)</small><table border=\"1\" class=\"dataframe\"><thead><tr><th>Order Line</th><th>Order ID</th><th>Order Date</th><th>Ship Date</th><th>Ship Mode</th><th>Customer ID</th><th>Product ID</th><th>Sales</th><th>Quantity</th><th>Discount</th><th>Profit</th></tr><tr><td>i32</td><td>str</td><td>date</td><td>date</td><td>str</td><td>str</td><td>str</td><td>f64</td><td>i32</td><td>f64</td><td>f64</td></tr></thead><tbody><tr><td>1</td><td>&quot;CA-2016-152156&quot;</td><td>2016-11-08</td><td>2016-11-11</td><td>&quot;Second Class&quot;</td><td>&quot;CG-12520&quot;</td><td>&quot;FUR-BO-10001798&quot;</td><td>261.96</td><td>2</td><td>0.0</td><td>41.9136</td></tr><tr><td>2</td><td>&quot;CA-2016-152156&quot;</td><td>2016-11-08</td><td>2016-11-11</td><td>&quot;Second Class&quot;</td><td>&quot;CG-12520&quot;</td><td>&quot;FUR-CH-10000454&quot;</td><td>731.94</td><td>3</td><td>0.0</td><td>219.582</td></tr><tr><td>3</td><td>&quot;CA-2016-138688&quot;</td><td>2016-06-12</td><td>2016-06-16</td><td>&quot;Second Class&quot;</td><td>&quot;DV-13045&quot;</td><td>&quot;OFF-LA-10000240&quot;</td><td>14.62</td><td>2</td><td>0.0</td><td>6.8714</td></tr><tr><td>4</td><td>&quot;US-2015-108966&quot;</td><td>2015-10-11</td><td>2015-10-18</td><td>&quot;Standard Class&quot;</td><td>&quot;SO-20335&quot;</td><td>&quot;FUR-TA-10000577&quot;</td><td>957.5775</td><td>5</td><td>0.45</td><td>-383.031</td></tr><tr><td>5</td><td>&quot;US-2015-108966&quot;</td><td>2015-10-11</td><td>2015-10-18</td><td>&quot;Standard Class&quot;</td><td>&quot;SO-20335&quot;</td><td>&quot;OFF-ST-10000760&quot;</td><td>22.368</td><td>2</td><td>0.2</td><td>2.5164</td></tr></tbody></table></div>",
       "datasetInfos": [],
       "metadata": {},
       "removedWidgets": [],
       "textData": null,
       "type": "htmlSandbox"
      }
     },
     "output_type": "display_data"
    }
   ],
   "source": [
    "spark_df_sales = spark.read.csv(\"/FileStore/tables/veera/Sales.csv\", header=True, inferSchema=True)\n",
    "pandas_df_sales = spark_df_sales.toPandas()\n",
    "polars_df_sales = pl.from_pandas(pandas_df_sales)\n",
    "polars_df_sales.head(5)"
   ]
  },
  {
   "cell_type": "code",
   "execution_count": 0,
   "metadata": {
    "application/vnd.databricks.v1+cell": {
     "cellMetadata": {
      "byteLimit": 2048000,
      "rowLimit": 10000
     },
     "inputWidgets": {},
     "nuid": "e123315f-f3bb-41f9-87ac-dfcc5671cd02",
     "showTitle": false,
     "title": ""
    }
   },
   "outputs": [
    {
     "output_type": "stream",
     "name": "stdout",
     "output_type": "stream",
     "text": [
      "24.27271842956543\n"
     ]
    }
   ],
   "source": [
    "import time\n",
    "\n",
    "st_time = time.time()\n",
    "spark_df_application = spark.read.csv(\"/FileStore/tables/veera/application_data_1lakh.csv\", header=True, inferSchema=True)\n",
    "pandas_df_application = spark_df_application.toPandas()\n",
    "ed_time = time.time()\n",
    "pandas_df_application.head(5)\n",
    "\n",
    "total_time = str(ed_time-st_time)\n",
    "print(total_time)"
   ]
  },
  {
   "cell_type": "code",
   "execution_count": 0,
   "metadata": {
    "application/vnd.databricks.v1+cell": {
     "cellMetadata": {
      "byteLimit": 2048000,
      "rowLimit": 10000
     },
     "inputWidgets": {},
     "nuid": "6fbe58c3-96a8-4f34-9808-bbafe5058691",
     "showTitle": false,
     "title": ""
    }
   },
   "outputs": [
    {
     "output_type": "stream",
     "name": "stdout",
     "output_type": "stream",
     "text": [
      "21.697641372680664\n"
     ]
    }
   ],
   "source": [
    "import time\n",
    "\n",
    "st_time = time.time()\n",
    "spark_df_application = spark.read.csv(\"/FileStore/tables/veera/application_data_1lakh.csv\", header=True, inferSchema=True)\n",
    "pandas_df_application = spark_df_application.toPandas()\n",
    "polars_df_application = pl.from_pandas(pandas_df_application)\n",
    "ed_time = time.time()\n",
    "polars_df_application.head(5)\n",
    "\n",
    "total_time = str(ed_time-st_time)\n",
    "print(total_time)\n"
   ]
  },
  {
   "cell_type": "code",
   "execution_count": 0,
   "metadata": {
    "application/vnd.databricks.v1+cell": {
     "cellMetadata": {
      "byteLimit": 2048000,
      "rowLimit": 10000
     },
     "inputWidgets": {},
     "nuid": "19b77bbd-9e01-46dd-8804-70052020149c",
     "showTitle": false,
     "title": ""
    }
   },
   "outputs": [
    {
     "output_type": "display_data",
     "data": {
      "text/html": [
       "<div>\n",
       "<style scoped>\n",
       "    .dataframe tbody tr th:only-of-type {\n",
       "        vertical-align: middle;\n",
       "    }\n",
       "\n",
       "    .dataframe tbody tr th {\n",
       "        vertical-align: top;\n",
       "    }\n",
       "\n",
       "    .dataframe thead th {\n",
       "        text-align: right;\n",
       "    }\n",
       "</style>\n",
       "<table border=\"1\" class=\"dataframe\">\n",
       "  <thead>\n",
       "    <tr style=\"text-align: right;\">\n",
       "      <th></th>\n",
       "      <th>CustomerID</th>\n",
       "      <th>CustomerName</th>\n",
       "      <th>Segment</th>\n",
       "      <th>Age</th>\n",
       "      <th>Country</th>\n",
       "      <th>City</th>\n",
       "      <th>State</th>\n",
       "      <th>PostalCode</th>\n",
       "      <th>Region</th>\n",
       "    </tr>\n",
       "  </thead>\n",
       "  <tbody>\n",
       "    <tr>\n",
       "      <th>0</th>\n",
       "      <td>CG-12520</td>\n",
       "      <td>Claire Gute</td>\n",
       "      <td>Consumer</td>\n",
       "      <td>67</td>\n",
       "      <td>United States</td>\n",
       "      <td>Henderson</td>\n",
       "      <td>Kentucky</td>\n",
       "      <td>42420</td>\n",
       "      <td>South</td>\n",
       "    </tr>\n",
       "    <tr>\n",
       "      <th>1</th>\n",
       "      <td>DV-13045</td>\n",
       "      <td>Darrin Van Huff</td>\n",
       "      <td>Corporate</td>\n",
       "      <td>31</td>\n",
       "      <td>United States</td>\n",
       "      <td>Los Angeles</td>\n",
       "      <td>California</td>\n",
       "      <td>90036</td>\n",
       "      <td>West</td>\n",
       "    </tr>\n",
       "    <tr>\n",
       "      <th>2</th>\n",
       "      <td>SO-20335</td>\n",
       "      <td>Sean O'Donnell</td>\n",
       "      <td>Consumer</td>\n",
       "      <td>65</td>\n",
       "      <td>United States</td>\n",
       "      <td>Fort Lauderdale</td>\n",
       "      <td>Florida</td>\n",
       "      <td>33311</td>\n",
       "      <td>South</td>\n",
       "    </tr>\n",
       "    <tr>\n",
       "      <th>3</th>\n",
       "      <td>BH-11710</td>\n",
       "      <td>Brosina Hoffman</td>\n",
       "      <td>Consumer</td>\n",
       "      <td>20</td>\n",
       "      <td>United States</td>\n",
       "      <td>Los Angeles</td>\n",
       "      <td>California</td>\n",
       "      <td>90032</td>\n",
       "      <td>West</td>\n",
       "    </tr>\n",
       "    <tr>\n",
       "      <th>4</th>\n",
       "      <td>AA-10480</td>\n",
       "      <td>Andrew Allen</td>\n",
       "      <td>Consumer</td>\n",
       "      <td>50</td>\n",
       "      <td>United States</td>\n",
       "      <td>Concord</td>\n",
       "      <td>North Carolina</td>\n",
       "      <td>28027</td>\n",
       "      <td>South</td>\n",
       "    </tr>\n",
       "  </tbody>\n",
       "</table>\n",
       "</div>"
      ]
     },
     "metadata": {
      "application/vnd.databricks.v1+output": {
       "addedWidgets": {},
       "arguments": {},
       "data": "<div>\n<style scoped>\n    .dataframe tbody tr th:only-of-type {\n        vertical-align: middle;\n    }\n\n    .dataframe tbody tr th {\n        vertical-align: top;\n    }\n\n    .dataframe thead th {\n        text-align: right;\n    }\n</style>\n<table border=\"1\" class=\"dataframe\">\n  <thead>\n    <tr style=\"text-align: right;\">\n      <th></th>\n      <th>CustomerID</th>\n      <th>CustomerName</th>\n      <th>Segment</th>\n      <th>Age</th>\n      <th>Country</th>\n      <th>City</th>\n      <th>State</th>\n      <th>PostalCode</th>\n      <th>Region</th>\n    </tr>\n  </thead>\n  <tbody>\n    <tr>\n      <th>0</th>\n      <td>CG-12520</td>\n      <td>Claire Gute</td>\n      <td>Consumer</td>\n      <td>67</td>\n      <td>United States</td>\n      <td>Henderson</td>\n      <td>Kentucky</td>\n      <td>42420</td>\n      <td>South</td>\n    </tr>\n    <tr>\n      <th>1</th>\n      <td>DV-13045</td>\n      <td>Darrin Van Huff</td>\n      <td>Corporate</td>\n      <td>31</td>\n      <td>United States</td>\n      <td>Los Angeles</td>\n      <td>California</td>\n      <td>90036</td>\n      <td>West</td>\n    </tr>\n    <tr>\n      <th>2</th>\n      <td>SO-20335</td>\n      <td>Sean O'Donnell</td>\n      <td>Consumer</td>\n      <td>65</td>\n      <td>United States</td>\n      <td>Fort Lauderdale</td>\n      <td>Florida</td>\n      <td>33311</td>\n      <td>South</td>\n    </tr>\n    <tr>\n      <th>3</th>\n      <td>BH-11710</td>\n      <td>Brosina Hoffman</td>\n      <td>Consumer</td>\n      <td>20</td>\n      <td>United States</td>\n      <td>Los Angeles</td>\n      <td>California</td>\n      <td>90032</td>\n      <td>West</td>\n    </tr>\n    <tr>\n      <th>4</th>\n      <td>AA-10480</td>\n      <td>Andrew Allen</td>\n      <td>Consumer</td>\n      <td>50</td>\n      <td>United States</td>\n      <td>Concord</td>\n      <td>North Carolina</td>\n      <td>28027</td>\n      <td>South</td>\n    </tr>\n  </tbody>\n</table>\n</div>",
       "datasetInfos": [],
       "metadata": {},
       "removedWidgets": [],
       "textData": null,
       "type": "htmlSandbox"
      }
     },
     "output_type": "display_data"
    }
   ],
   "source": [
    "pandas_df_customer.head(5)"
   ]
  },
  {
   "cell_type": "code",
   "execution_count": 0,
   "metadata": {
    "application/vnd.databricks.v1+cell": {
     "cellMetadata": {
      "byteLimit": 2048000,
      "rowLimit": 10000
     },
     "inputWidgets": {},
     "nuid": "f865d9a6-a1a7-4123-8f91-79ce63fba67b",
     "showTitle": false,
     "title": ""
    }
   },
   "outputs": [
    {
     "output_type": "display_data",
     "data": {
      "text/html": [
       "<div><style>\n",
       ".dataframe > thead > tr,\n",
       ".dataframe > tbody > tr {\n",
       "  text-align: right;\n",
       "  white-space: pre-wrap;\n",
       "}\n",
       "</style>\n",
       "<small>shape: (5, 9)</small><table border=\"1\" class=\"dataframe\"><thead><tr><th>CustomerID</th><th>CustomerName</th><th>Segment</th><th>Age</th><th>Country</th><th>City</th><th>State</th><th>PostalCode</th><th>Region</th></tr><tr><td>str</td><td>str</td><td>str</td><td>i32</td><td>str</td><td>str</td><td>str</td><td>i32</td><td>str</td></tr></thead><tbody><tr><td>&quot;CG-12520&quot;</td><td>&quot;Claire Gute&quot;</td><td>&quot;Consumer&quot;</td><td>67</td><td>&quot;United States&quot;</td><td>&quot;Henderson&quot;</td><td>&quot;Kentucky&quot;</td><td>42420</td><td>&quot;South&quot;</td></tr><tr><td>&quot;DV-13045&quot;</td><td>&quot;Darrin Van Huff&quot;</td><td>&quot;Corporate&quot;</td><td>31</td><td>&quot;United States&quot;</td><td>&quot;Los Angeles&quot;</td><td>&quot;California&quot;</td><td>90036</td><td>&quot;West&quot;</td></tr><tr><td>&quot;SO-20335&quot;</td><td>&quot;Sean O&#x27;Donnell&quot;</td><td>&quot;Consumer&quot;</td><td>65</td><td>&quot;United States&quot;</td><td>&quot;Fort Lauderdale&quot;</td><td>&quot;Florida&quot;</td><td>33311</td><td>&quot;South&quot;</td></tr><tr><td>&quot;BH-11710&quot;</td><td>&quot;Brosina Hoffman&quot;</td><td>&quot;Consumer&quot;</td><td>20</td><td>&quot;United States&quot;</td><td>&quot;Los Angeles&quot;</td><td>&quot;California&quot;</td><td>90032</td><td>&quot;West&quot;</td></tr><tr><td>&quot;AA-10480&quot;</td><td>&quot;Andrew Allen&quot;</td><td>&quot;Consumer&quot;</td><td>50</td><td>&quot;United States&quot;</td><td>&quot;Concord&quot;</td><td>&quot;North Carolina&quot;</td><td>28027</td><td>&quot;South&quot;</td></tr></tbody></table></div>"
      ]
     },
     "metadata": {
      "application/vnd.databricks.v1+output": {
       "addedWidgets": {},
       "arguments": {},
       "data": "<div><style>\n.dataframe > thead > tr,\n.dataframe > tbody > tr {\n  text-align: right;\n  white-space: pre-wrap;\n}\n</style>\n<small>shape: (5, 9)</small><table border=\"1\" class=\"dataframe\"><thead><tr><th>CustomerID</th><th>CustomerName</th><th>Segment</th><th>Age</th><th>Country</th><th>City</th><th>State</th><th>PostalCode</th><th>Region</th></tr><tr><td>str</td><td>str</td><td>str</td><td>i32</td><td>str</td><td>str</td><td>str</td><td>i32</td><td>str</td></tr></thead><tbody><tr><td>&quot;CG-12520&quot;</td><td>&quot;Claire Gute&quot;</td><td>&quot;Consumer&quot;</td><td>67</td><td>&quot;United States&quot;</td><td>&quot;Henderson&quot;</td><td>&quot;Kentucky&quot;</td><td>42420</td><td>&quot;South&quot;</td></tr><tr><td>&quot;DV-13045&quot;</td><td>&quot;Darrin Van Huff&quot;</td><td>&quot;Corporate&quot;</td><td>31</td><td>&quot;United States&quot;</td><td>&quot;Los Angeles&quot;</td><td>&quot;California&quot;</td><td>90036</td><td>&quot;West&quot;</td></tr><tr><td>&quot;SO-20335&quot;</td><td>&quot;Sean O&#x27;Donnell&quot;</td><td>&quot;Consumer&quot;</td><td>65</td><td>&quot;United States&quot;</td><td>&quot;Fort Lauderdale&quot;</td><td>&quot;Florida&quot;</td><td>33311</td><td>&quot;South&quot;</td></tr><tr><td>&quot;BH-11710&quot;</td><td>&quot;Brosina Hoffman&quot;</td><td>&quot;Consumer&quot;</td><td>20</td><td>&quot;United States&quot;</td><td>&quot;Los Angeles&quot;</td><td>&quot;California&quot;</td><td>90032</td><td>&quot;West&quot;</td></tr><tr><td>&quot;AA-10480&quot;</td><td>&quot;Andrew Allen&quot;</td><td>&quot;Consumer&quot;</td><td>50</td><td>&quot;United States&quot;</td><td>&quot;Concord&quot;</td><td>&quot;North Carolina&quot;</td><td>28027</td><td>&quot;South&quot;</td></tr></tbody></table></div>",
       "datasetInfos": [],
       "metadata": {},
       "removedWidgets": [],
       "textData": null,
       "type": "htmlSandbox"
      }
     },
     "output_type": "display_data"
    }
   ],
   "source": [
    "polars_df_customer.head(5)"
   ]
  },
  {
   "cell_type": "code",
   "execution_count": 0,
   "metadata": {
    "application/vnd.databricks.v1+cell": {
     "cellMetadata": {
      "byteLimit": 2048000,
      "rowLimit": 10000
     },
     "inputWidgets": {},
     "nuid": "66e2a2cd-5599-4d9c-b4f6-2da99678198d",
     "showTitle": false,
     "title": ""
    }
   },
   "outputs": [
    {
     "output_type": "display_data",
     "data": {
      "text/html": [
       "<div>\n",
       "<style scoped>\n",
       "    .dataframe tbody tr th:only-of-type {\n",
       "        vertical-align: middle;\n",
       "    }\n",
       "\n",
       "    .dataframe tbody tr th {\n",
       "        vertical-align: top;\n",
       "    }\n",
       "\n",
       "    .dataframe thead th {\n",
       "        text-align: right;\n",
       "    }\n",
       "</style>\n",
       "<table border=\"1\" class=\"dataframe\">\n",
       "  <thead>\n",
       "    <tr style=\"text-align: right;\">\n",
       "      <th></th>\n",
       "      <th>Product ID</th>\n",
       "      <th>Category</th>\n",
       "      <th>Sub-Category</th>\n",
       "      <th>Product Name</th>\n",
       "    </tr>\n",
       "  </thead>\n",
       "  <tbody>\n",
       "    <tr>\n",
       "      <th>0</th>\n",
       "      <td>FUR-BO-10001798</td>\n",
       "      <td>Furniture</td>\n",
       "      <td>Bookcases</td>\n",
       "      <td>Bush Somerset Collection Bookcase</td>\n",
       "    </tr>\n",
       "    <tr>\n",
       "      <th>1</th>\n",
       "      <td>FUR-CH-10000454</td>\n",
       "      <td>Furniture</td>\n",
       "      <td>Chairs</td>\n",
       "      <td>Hon Deluxe Fabric Upholstered Stacking Chairs ...</td>\n",
       "    </tr>\n",
       "    <tr>\n",
       "      <th>2</th>\n",
       "      <td>OFF-LA-10000240</td>\n",
       "      <td>Office Supplies</td>\n",
       "      <td>Labels</td>\n",
       "      <td>Self-Adhesive Address Labels for Typewriters b...</td>\n",
       "    </tr>\n",
       "    <tr>\n",
       "      <th>3</th>\n",
       "      <td>FUR-TA-10000577</td>\n",
       "      <td>Furniture</td>\n",
       "      <td>Tables</td>\n",
       "      <td>Bretford CR4500 Series Slim Rectangular Table</td>\n",
       "    </tr>\n",
       "    <tr>\n",
       "      <th>4</th>\n",
       "      <td>OFF-ST-10000760</td>\n",
       "      <td>Office Supplies</td>\n",
       "      <td>Storage</td>\n",
       "      <td>Eldon Fold N Roll Cart System</td>\n",
       "    </tr>\n",
       "  </tbody>\n",
       "</table>\n",
       "</div>"
      ]
     },
     "metadata": {
      "application/vnd.databricks.v1+output": {
       "addedWidgets": {},
       "arguments": {},
       "data": "<div>\n<style scoped>\n    .dataframe tbody tr th:only-of-type {\n        vertical-align: middle;\n    }\n\n    .dataframe tbody tr th {\n        vertical-align: top;\n    }\n\n    .dataframe thead th {\n        text-align: right;\n    }\n</style>\n<table border=\"1\" class=\"dataframe\">\n  <thead>\n    <tr style=\"text-align: right;\">\n      <th></th>\n      <th>Product ID</th>\n      <th>Category</th>\n      <th>Sub-Category</th>\n      <th>Product Name</th>\n    </tr>\n  </thead>\n  <tbody>\n    <tr>\n      <th>0</th>\n      <td>FUR-BO-10001798</td>\n      <td>Furniture</td>\n      <td>Bookcases</td>\n      <td>Bush Somerset Collection Bookcase</td>\n    </tr>\n    <tr>\n      <th>1</th>\n      <td>FUR-CH-10000454</td>\n      <td>Furniture</td>\n      <td>Chairs</td>\n      <td>Hon Deluxe Fabric Upholstered Stacking Chairs ...</td>\n    </tr>\n    <tr>\n      <th>2</th>\n      <td>OFF-LA-10000240</td>\n      <td>Office Supplies</td>\n      <td>Labels</td>\n      <td>Self-Adhesive Address Labels for Typewriters b...</td>\n    </tr>\n    <tr>\n      <th>3</th>\n      <td>FUR-TA-10000577</td>\n      <td>Furniture</td>\n      <td>Tables</td>\n      <td>Bretford CR4500 Series Slim Rectangular Table</td>\n    </tr>\n    <tr>\n      <th>4</th>\n      <td>OFF-ST-10000760</td>\n      <td>Office Supplies</td>\n      <td>Storage</td>\n      <td>Eldon Fold N Roll Cart System</td>\n    </tr>\n  </tbody>\n</table>\n</div>",
       "datasetInfos": [],
       "metadata": {},
       "removedWidgets": [],
       "textData": null,
       "type": "htmlSandbox"
      }
     },
     "output_type": "display_data"
    }
   ],
   "source": [
    "pandas_df_products.head(5)"
   ]
  },
  {
   "cell_type": "code",
   "execution_count": 0,
   "metadata": {
    "application/vnd.databricks.v1+cell": {
     "cellMetadata": {
      "byteLimit": 2048000,
      "rowLimit": 10000
     },
     "inputWidgets": {},
     "nuid": "7d3300b1-cf7b-4487-9f9c-8203f41a85ef",
     "showTitle": false,
     "title": ""
    }
   },
   "outputs": [
    {
     "output_type": "display_data",
     "data": {
      "text/html": [
       "<div><style>\n",
       ".dataframe > thead > tr,\n",
       ".dataframe > tbody > tr {\n",
       "  text-align: right;\n",
       "  white-space: pre-wrap;\n",
       "}\n",
       "</style>\n",
       "<small>shape: (5, 4)</small><table border=\"1\" class=\"dataframe\"><thead><tr><th>Product ID</th><th>Category</th><th>Sub-Category</th><th>Product Name</th></tr><tr><td>str</td><td>str</td><td>str</td><td>str</td></tr></thead><tbody><tr><td>&quot;FUR-BO-10001798&quot;</td><td>&quot;Furniture&quot;</td><td>&quot;Bookcases&quot;</td><td>&quot;Bush Somerset Collection Bookc…</td></tr><tr><td>&quot;FUR-CH-10000454&quot;</td><td>&quot;Furniture&quot;</td><td>&quot;Chairs&quot;</td><td>&quot;Hon Deluxe Fabric Upholstered …</td></tr><tr><td>&quot;OFF-LA-10000240&quot;</td><td>&quot;Office Supplies&quot;</td><td>&quot;Labels&quot;</td><td>&quot;Self-Adhesive Address Labels f…</td></tr><tr><td>&quot;FUR-TA-10000577&quot;</td><td>&quot;Furniture&quot;</td><td>&quot;Tables&quot;</td><td>&quot;Bretford CR4500 Series Slim Re…</td></tr><tr><td>&quot;OFF-ST-10000760&quot;</td><td>&quot;Office Supplies&quot;</td><td>&quot;Storage&quot;</td><td>&quot;Eldon Fold N Roll Cart System&quot;</td></tr></tbody></table></div>"
      ]
     },
     "metadata": {
      "application/vnd.databricks.v1+output": {
       "addedWidgets": {},
       "arguments": {},
       "data": "<div><style>\n.dataframe > thead > tr,\n.dataframe > tbody > tr {\n  text-align: right;\n  white-space: pre-wrap;\n}\n</style>\n<small>shape: (5, 4)</small><table border=\"1\" class=\"dataframe\"><thead><tr><th>Product ID</th><th>Category</th><th>Sub-Category</th><th>Product Name</th></tr><tr><td>str</td><td>str</td><td>str</td><td>str</td></tr></thead><tbody><tr><td>&quot;FUR-BO-10001798&quot;</td><td>&quot;Furniture&quot;</td><td>&quot;Bookcases&quot;</td><td>&quot;Bush Somerset Collection Bookc…</td></tr><tr><td>&quot;FUR-CH-10000454&quot;</td><td>&quot;Furniture&quot;</td><td>&quot;Chairs&quot;</td><td>&quot;Hon Deluxe Fabric Upholstered …</td></tr><tr><td>&quot;OFF-LA-10000240&quot;</td><td>&quot;Office Supplies&quot;</td><td>&quot;Labels&quot;</td><td>&quot;Self-Adhesive Address Labels f…</td></tr><tr><td>&quot;FUR-TA-10000577&quot;</td><td>&quot;Furniture&quot;</td><td>&quot;Tables&quot;</td><td>&quot;Bretford CR4500 Series Slim Re…</td></tr><tr><td>&quot;OFF-ST-10000760&quot;</td><td>&quot;Office Supplies&quot;</td><td>&quot;Storage&quot;</td><td>&quot;Eldon Fold N Roll Cart System&quot;</td></tr></tbody></table></div>",
       "datasetInfos": [],
       "metadata": {},
       "removedWidgets": [],
       "textData": null,
       "type": "htmlSandbox"
      }
     },
     "output_type": "display_data"
    }
   ],
   "source": [
    "polars_df_products.head(5)"
   ]
  },
  {
   "cell_type": "code",
   "execution_count": 0,
   "metadata": {
    "application/vnd.databricks.v1+cell": {
     "cellMetadata": {
      "byteLimit": 2048000,
      "rowLimit": 10000
     },
     "inputWidgets": {},
     "nuid": "bde1360a-116a-4aab-8c1e-47ef6c88be86",
     "showTitle": false,
     "title": ""
    }
   },
   "outputs": [
    {
     "output_type": "display_data",
     "data": {
      "text/html": [
       "<div>\n",
       "<style scoped>\n",
       "    .dataframe tbody tr th:only-of-type {\n",
       "        vertical-align: middle;\n",
       "    }\n",
       "\n",
       "    .dataframe tbody tr th {\n",
       "        vertical-align: top;\n",
       "    }\n",
       "\n",
       "    .dataframe thead th {\n",
       "        text-align: right;\n",
       "    }\n",
       "</style>\n",
       "<table border=\"1\" class=\"dataframe\">\n",
       "  <thead>\n",
       "    <tr style=\"text-align: right;\">\n",
       "      <th></th>\n",
       "      <th>Order Line</th>\n",
       "      <th>Order ID</th>\n",
       "      <th>Order Date</th>\n",
       "      <th>Ship Date</th>\n",
       "      <th>Ship Mode</th>\n",
       "      <th>Customer ID</th>\n",
       "      <th>Product ID</th>\n",
       "      <th>Sales</th>\n",
       "      <th>Quantity</th>\n",
       "      <th>Discount</th>\n",
       "      <th>Profit</th>\n",
       "    </tr>\n",
       "  </thead>\n",
       "  <tbody>\n",
       "    <tr>\n",
       "      <th>0</th>\n",
       "      <td>1</td>\n",
       "      <td>CA-2016-152156</td>\n",
       "      <td>2016-11-08</td>\n",
       "      <td>2016-11-11</td>\n",
       "      <td>Second Class</td>\n",
       "      <td>CG-12520</td>\n",
       "      <td>FUR-BO-10001798</td>\n",
       "      <td>261.9600</td>\n",
       "      <td>2</td>\n",
       "      <td>0.00</td>\n",
       "      <td>41.9136</td>\n",
       "    </tr>\n",
       "    <tr>\n",
       "      <th>1</th>\n",
       "      <td>2</td>\n",
       "      <td>CA-2016-152156</td>\n",
       "      <td>2016-11-08</td>\n",
       "      <td>2016-11-11</td>\n",
       "      <td>Second Class</td>\n",
       "      <td>CG-12520</td>\n",
       "      <td>FUR-CH-10000454</td>\n",
       "      <td>731.9400</td>\n",
       "      <td>3</td>\n",
       "      <td>0.00</td>\n",
       "      <td>219.5820</td>\n",
       "    </tr>\n",
       "    <tr>\n",
       "      <th>2</th>\n",
       "      <td>3</td>\n",
       "      <td>CA-2016-138688</td>\n",
       "      <td>2016-06-12</td>\n",
       "      <td>2016-06-16</td>\n",
       "      <td>Second Class</td>\n",
       "      <td>DV-13045</td>\n",
       "      <td>OFF-LA-10000240</td>\n",
       "      <td>14.6200</td>\n",
       "      <td>2</td>\n",
       "      <td>0.00</td>\n",
       "      <td>6.8714</td>\n",
       "    </tr>\n",
       "    <tr>\n",
       "      <th>3</th>\n",
       "      <td>4</td>\n",
       "      <td>US-2015-108966</td>\n",
       "      <td>2015-10-11</td>\n",
       "      <td>2015-10-18</td>\n",
       "      <td>Standard Class</td>\n",
       "      <td>SO-20335</td>\n",
       "      <td>FUR-TA-10000577</td>\n",
       "      <td>957.5775</td>\n",
       "      <td>5</td>\n",
       "      <td>0.45</td>\n",
       "      <td>-383.0310</td>\n",
       "    </tr>\n",
       "    <tr>\n",
       "      <th>4</th>\n",
       "      <td>5</td>\n",
       "      <td>US-2015-108966</td>\n",
       "      <td>2015-10-11</td>\n",
       "      <td>2015-10-18</td>\n",
       "      <td>Standard Class</td>\n",
       "      <td>SO-20335</td>\n",
       "      <td>OFF-ST-10000760</td>\n",
       "      <td>22.3680</td>\n",
       "      <td>2</td>\n",
       "      <td>0.20</td>\n",
       "      <td>2.5164</td>\n",
       "    </tr>\n",
       "  </tbody>\n",
       "</table>\n",
       "</div>"
      ]
     },
     "metadata": {
      "application/vnd.databricks.v1+output": {
       "addedWidgets": {},
       "arguments": {},
       "data": "<div>\n<style scoped>\n    .dataframe tbody tr th:only-of-type {\n        vertical-align: middle;\n    }\n\n    .dataframe tbody tr th {\n        vertical-align: top;\n    }\n\n    .dataframe thead th {\n        text-align: right;\n    }\n</style>\n<table border=\"1\" class=\"dataframe\">\n  <thead>\n    <tr style=\"text-align: right;\">\n      <th></th>\n      <th>Order Line</th>\n      <th>Order ID</th>\n      <th>Order Date</th>\n      <th>Ship Date</th>\n      <th>Ship Mode</th>\n      <th>Customer ID</th>\n      <th>Product ID</th>\n      <th>Sales</th>\n      <th>Quantity</th>\n      <th>Discount</th>\n      <th>Profit</th>\n    </tr>\n  </thead>\n  <tbody>\n    <tr>\n      <th>0</th>\n      <td>1</td>\n      <td>CA-2016-152156</td>\n      <td>2016-11-08</td>\n      <td>2016-11-11</td>\n      <td>Second Class</td>\n      <td>CG-12520</td>\n      <td>FUR-BO-10001798</td>\n      <td>261.9600</td>\n      <td>2</td>\n      <td>0.00</td>\n      <td>41.9136</td>\n    </tr>\n    <tr>\n      <th>1</th>\n      <td>2</td>\n      <td>CA-2016-152156</td>\n      <td>2016-11-08</td>\n      <td>2016-11-11</td>\n      <td>Second Class</td>\n      <td>CG-12520</td>\n      <td>FUR-CH-10000454</td>\n      <td>731.9400</td>\n      <td>3</td>\n      <td>0.00</td>\n      <td>219.5820</td>\n    </tr>\n    <tr>\n      <th>2</th>\n      <td>3</td>\n      <td>CA-2016-138688</td>\n      <td>2016-06-12</td>\n      <td>2016-06-16</td>\n      <td>Second Class</td>\n      <td>DV-13045</td>\n      <td>OFF-LA-10000240</td>\n      <td>14.6200</td>\n      <td>2</td>\n      <td>0.00</td>\n      <td>6.8714</td>\n    </tr>\n    <tr>\n      <th>3</th>\n      <td>4</td>\n      <td>US-2015-108966</td>\n      <td>2015-10-11</td>\n      <td>2015-10-18</td>\n      <td>Standard Class</td>\n      <td>SO-20335</td>\n      <td>FUR-TA-10000577</td>\n      <td>957.5775</td>\n      <td>5</td>\n      <td>0.45</td>\n      <td>-383.0310</td>\n    </tr>\n    <tr>\n      <th>4</th>\n      <td>5</td>\n      <td>US-2015-108966</td>\n      <td>2015-10-11</td>\n      <td>2015-10-18</td>\n      <td>Standard Class</td>\n      <td>SO-20335</td>\n      <td>OFF-ST-10000760</td>\n      <td>22.3680</td>\n      <td>2</td>\n      <td>0.20</td>\n      <td>2.5164</td>\n    </tr>\n  </tbody>\n</table>\n</div>",
       "datasetInfos": [],
       "metadata": {},
       "removedWidgets": [],
       "textData": null,
       "type": "htmlSandbox"
      }
     },
     "output_type": "display_data"
    }
   ],
   "source": [
    "pandas_df_sales.head(5)"
   ]
  },
  {
   "cell_type": "code",
   "execution_count": 0,
   "metadata": {
    "application/vnd.databricks.v1+cell": {
     "cellMetadata": {
      "byteLimit": 2048000,
      "rowLimit": 10000
     },
     "inputWidgets": {},
     "nuid": "6a95c03e-c703-444d-a21c-a86b1e3c590c",
     "showTitle": false,
     "title": ""
    }
   },
   "outputs": [
    {
     "output_type": "display_data",
     "data": {
      "text/html": [
       "<div><style>\n",
       ".dataframe > thead > tr,\n",
       ".dataframe > tbody > tr {\n",
       "  text-align: right;\n",
       "  white-space: pre-wrap;\n",
       "}\n",
       "</style>\n",
       "<small>shape: (5, 11)</small><table border=\"1\" class=\"dataframe\"><thead><tr><th>Order Line</th><th>Order ID</th><th>Order Date</th><th>Ship Date</th><th>Ship Mode</th><th>Customer ID</th><th>Product ID</th><th>Sales</th><th>Quantity</th><th>Discount</th><th>Profit</th></tr><tr><td>i32</td><td>str</td><td>date</td><td>date</td><td>str</td><td>str</td><td>str</td><td>f64</td><td>i32</td><td>f64</td><td>f64</td></tr></thead><tbody><tr><td>1</td><td>&quot;CA-2016-152156&quot;</td><td>2016-11-08</td><td>2016-11-11</td><td>&quot;Second Class&quot;</td><td>&quot;CG-12520&quot;</td><td>&quot;FUR-BO-10001798&quot;</td><td>261.96</td><td>2</td><td>0.0</td><td>41.9136</td></tr><tr><td>2</td><td>&quot;CA-2016-152156&quot;</td><td>2016-11-08</td><td>2016-11-11</td><td>&quot;Second Class&quot;</td><td>&quot;CG-12520&quot;</td><td>&quot;FUR-CH-10000454&quot;</td><td>731.94</td><td>3</td><td>0.0</td><td>219.582</td></tr><tr><td>3</td><td>&quot;CA-2016-138688&quot;</td><td>2016-06-12</td><td>2016-06-16</td><td>&quot;Second Class&quot;</td><td>&quot;DV-13045&quot;</td><td>&quot;OFF-LA-10000240&quot;</td><td>14.62</td><td>2</td><td>0.0</td><td>6.8714</td></tr><tr><td>4</td><td>&quot;US-2015-108966&quot;</td><td>2015-10-11</td><td>2015-10-18</td><td>&quot;Standard Class&quot;</td><td>&quot;SO-20335&quot;</td><td>&quot;FUR-TA-10000577&quot;</td><td>957.5775</td><td>5</td><td>0.45</td><td>-383.031</td></tr><tr><td>5</td><td>&quot;US-2015-108966&quot;</td><td>2015-10-11</td><td>2015-10-18</td><td>&quot;Standard Class&quot;</td><td>&quot;SO-20335&quot;</td><td>&quot;OFF-ST-10000760&quot;</td><td>22.368</td><td>2</td><td>0.2</td><td>2.5164</td></tr></tbody></table></div>"
      ]
     },
     "metadata": {
      "application/vnd.databricks.v1+output": {
       "addedWidgets": {},
       "arguments": {},
       "data": "<div><style>\n.dataframe > thead > tr,\n.dataframe > tbody > tr {\n  text-align: right;\n  white-space: pre-wrap;\n}\n</style>\n<small>shape: (5, 11)</small><table border=\"1\" class=\"dataframe\"><thead><tr><th>Order Line</th><th>Order ID</th><th>Order Date</th><th>Ship Date</th><th>Ship Mode</th><th>Customer ID</th><th>Product ID</th><th>Sales</th><th>Quantity</th><th>Discount</th><th>Profit</th></tr><tr><td>i32</td><td>str</td><td>date</td><td>date</td><td>str</td><td>str</td><td>str</td><td>f64</td><td>i32</td><td>f64</td><td>f64</td></tr></thead><tbody><tr><td>1</td><td>&quot;CA-2016-152156&quot;</td><td>2016-11-08</td><td>2016-11-11</td><td>&quot;Second Class&quot;</td><td>&quot;CG-12520&quot;</td><td>&quot;FUR-BO-10001798&quot;</td><td>261.96</td><td>2</td><td>0.0</td><td>41.9136</td></tr><tr><td>2</td><td>&quot;CA-2016-152156&quot;</td><td>2016-11-08</td><td>2016-11-11</td><td>&quot;Second Class&quot;</td><td>&quot;CG-12520&quot;</td><td>&quot;FUR-CH-10000454&quot;</td><td>731.94</td><td>3</td><td>0.0</td><td>219.582</td></tr><tr><td>3</td><td>&quot;CA-2016-138688&quot;</td><td>2016-06-12</td><td>2016-06-16</td><td>&quot;Second Class&quot;</td><td>&quot;DV-13045&quot;</td><td>&quot;OFF-LA-10000240&quot;</td><td>14.62</td><td>2</td><td>0.0</td><td>6.8714</td></tr><tr><td>4</td><td>&quot;US-2015-108966&quot;</td><td>2015-10-11</td><td>2015-10-18</td><td>&quot;Standard Class&quot;</td><td>&quot;SO-20335&quot;</td><td>&quot;FUR-TA-10000577&quot;</td><td>957.5775</td><td>5</td><td>0.45</td><td>-383.031</td></tr><tr><td>5</td><td>&quot;US-2015-108966&quot;</td><td>2015-10-11</td><td>2015-10-18</td><td>&quot;Standard Class&quot;</td><td>&quot;SO-20335&quot;</td><td>&quot;OFF-ST-10000760&quot;</td><td>22.368</td><td>2</td><td>0.2</td><td>2.5164</td></tr></tbody></table></div>",
       "datasetInfos": [],
       "metadata": {},
       "removedWidgets": [],
       "textData": null,
       "type": "htmlSandbox"
      }
     },
     "output_type": "display_data"
    }
   ],
   "source": [
    "polars_df_sales.head(5)"
   ]
  },
  {
   "cell_type": "code",
   "execution_count": 0,
   "metadata": {
    "application/vnd.databricks.v1+cell": {
     "cellMetadata": {
      "byteLimit": 2048000,
      "rowLimit": 10000
     },
     "inputWidgets": {},
     "nuid": "e8f9cbd8-2d13-4cc3-9ef3-2ca28eff34fc",
     "showTitle": false,
     "title": ""
    }
   },
   "outputs": [
    {
     "output_type": "display_data",
     "data": {
      "text/html": [
       "<div>\n",
       "<style scoped>\n",
       "    .dataframe tbody tr th:only-of-type {\n",
       "        vertical-align: middle;\n",
       "    }\n",
       "\n",
       "    .dataframe tbody tr th {\n",
       "        vertical-align: top;\n",
       "    }\n",
       "\n",
       "    .dataframe thead th {\n",
       "        text-align: right;\n",
       "    }\n",
       "</style>\n",
       "<table border=\"1\" class=\"dataframe\">\n",
       "  <thead>\n",
       "    <tr style=\"text-align: right;\">\n",
       "      <th></th>\n",
       "      <th>SK_ID_CURR</th>\n",
       "      <th>TARGET</th>\n",
       "      <th>NAME_CONTRACT_TYPE</th>\n",
       "      <th>CODE_GENDER</th>\n",
       "      <th>FLAG_OWN_CAR</th>\n",
       "      <th>FLAG_OWN_REALTY</th>\n",
       "      <th>CNT_CHILDREN</th>\n",
       "      <th>AMT_INCOME_TOTAL</th>\n",
       "      <th>AMT_CREDIT</th>\n",
       "      <th>AMT_ANNUITY</th>\n",
       "      <th>...</th>\n",
       "      <th>FLAG_DOCUMENT_18</th>\n",
       "      <th>FLAG_DOCUMENT_19</th>\n",
       "      <th>FLAG_DOCUMENT_20</th>\n",
       "      <th>FLAG_DOCUMENT_21</th>\n",
       "      <th>AMT_REQ_CREDIT_BUREAU_HOUR</th>\n",
       "      <th>AMT_REQ_CREDIT_BUREAU_DAY</th>\n",
       "      <th>AMT_REQ_CREDIT_BUREAU_WEEK</th>\n",
       "      <th>AMT_REQ_CREDIT_BUREAU_MON</th>\n",
       "      <th>AMT_REQ_CREDIT_BUREAU_QRT</th>\n",
       "      <th>AMT_REQ_CREDIT_BUREAU_YEAR</th>\n",
       "    </tr>\n",
       "  </thead>\n",
       "  <tbody>\n",
       "    <tr>\n",
       "      <th>0</th>\n",
       "      <td>100002.0</td>\n",
       "      <td>1.0</td>\n",
       "      <td>Cash loans</td>\n",
       "      <td>M</td>\n",
       "      <td>N</td>\n",
       "      <td>Y</td>\n",
       "      <td>0.0</td>\n",
       "      <td>202500.0</td>\n",
       "      <td>406597.5</td>\n",
       "      <td>24700.5</td>\n",
       "      <td>...</td>\n",
       "      <td>0.0</td>\n",
       "      <td>0.0</td>\n",
       "      <td>0.0</td>\n",
       "      <td>0.0</td>\n",
       "      <td>0.0</td>\n",
       "      <td>0.0</td>\n",
       "      <td>0.0</td>\n",
       "      <td>0.0</td>\n",
       "      <td>0.0</td>\n",
       "      <td>1.0</td>\n",
       "    </tr>\n",
       "    <tr>\n",
       "      <th>1</th>\n",
       "      <td>100003.0</td>\n",
       "      <td>0.0</td>\n",
       "      <td>Cash loans</td>\n",
       "      <td>F</td>\n",
       "      <td>N</td>\n",
       "      <td>N</td>\n",
       "      <td>0.0</td>\n",
       "      <td>270000.0</td>\n",
       "      <td>1293502.5</td>\n",
       "      <td>35698.5</td>\n",
       "      <td>...</td>\n",
       "      <td>0.0</td>\n",
       "      <td>0.0</td>\n",
       "      <td>0.0</td>\n",
       "      <td>0.0</td>\n",
       "      <td>0.0</td>\n",
       "      <td>0.0</td>\n",
       "      <td>0.0</td>\n",
       "      <td>0.0</td>\n",
       "      <td>0.0</td>\n",
       "      <td>0.0</td>\n",
       "    </tr>\n",
       "    <tr>\n",
       "      <th>2</th>\n",
       "      <td>100004.0</td>\n",
       "      <td>0.0</td>\n",
       "      <td>Revolving loans</td>\n",
       "      <td>M</td>\n",
       "      <td>Y</td>\n",
       "      <td>Y</td>\n",
       "      <td>0.0</td>\n",
       "      <td>67500.0</td>\n",
       "      <td>135000.0</td>\n",
       "      <td>6750.0</td>\n",
       "      <td>...</td>\n",
       "      <td>0.0</td>\n",
       "      <td>0.0</td>\n",
       "      <td>0.0</td>\n",
       "      <td>0.0</td>\n",
       "      <td>0.0</td>\n",
       "      <td>0.0</td>\n",
       "      <td>0.0</td>\n",
       "      <td>0.0</td>\n",
       "      <td>0.0</td>\n",
       "      <td>0.0</td>\n",
       "    </tr>\n",
       "    <tr>\n",
       "      <th>3</th>\n",
       "      <td>100006.0</td>\n",
       "      <td>0.0</td>\n",
       "      <td>Cash loans</td>\n",
       "      <td>F</td>\n",
       "      <td>N</td>\n",
       "      <td>Y</td>\n",
       "      <td>0.0</td>\n",
       "      <td>135000.0</td>\n",
       "      <td>312682.5</td>\n",
       "      <td>29686.5</td>\n",
       "      <td>...</td>\n",
       "      <td>0.0</td>\n",
       "      <td>0.0</td>\n",
       "      <td>0.0</td>\n",
       "      <td>0.0</td>\n",
       "      <td>NaN</td>\n",
       "      <td>NaN</td>\n",
       "      <td>NaN</td>\n",
       "      <td>NaN</td>\n",
       "      <td>NaN</td>\n",
       "      <td>NaN</td>\n",
       "    </tr>\n",
       "    <tr>\n",
       "      <th>4</th>\n",
       "      <td>100007.0</td>\n",
       "      <td>0.0</td>\n",
       "      <td>Cash loans</td>\n",
       "      <td>M</td>\n",
       "      <td>N</td>\n",
       "      <td>Y</td>\n",
       "      <td>0.0</td>\n",
       "      <td>121500.0</td>\n",
       "      <td>513000.0</td>\n",
       "      <td>21865.5</td>\n",
       "      <td>...</td>\n",
       "      <td>0.0</td>\n",
       "      <td>0.0</td>\n",
       "      <td>0.0</td>\n",
       "      <td>0.0</td>\n",
       "      <td>0.0</td>\n",
       "      <td>0.0</td>\n",
       "      <td>0.0</td>\n",
       "      <td>0.0</td>\n",
       "      <td>0.0</td>\n",
       "      <td>0.0</td>\n",
       "    </tr>\n",
       "  </tbody>\n",
       "</table>\n",
       "<p>5 rows × 122 columns</p>\n",
       "</div>"
      ]
     },
     "metadata": {
      "application/vnd.databricks.v1+output": {
       "addedWidgets": {},
       "arguments": {},
       "data": "<div>\n<style scoped>\n    .dataframe tbody tr th:only-of-type {\n        vertical-align: middle;\n    }\n\n    .dataframe tbody tr th {\n        vertical-align: top;\n    }\n\n    .dataframe thead th {\n        text-align: right;\n    }\n</style>\n<table border=\"1\" class=\"dataframe\">\n  <thead>\n    <tr style=\"text-align: right;\">\n      <th></th>\n      <th>SK_ID_CURR</th>\n      <th>TARGET</th>\n      <th>NAME_CONTRACT_TYPE</th>\n      <th>CODE_GENDER</th>\n      <th>FLAG_OWN_CAR</th>\n      <th>FLAG_OWN_REALTY</th>\n      <th>CNT_CHILDREN</th>\n      <th>AMT_INCOME_TOTAL</th>\n      <th>AMT_CREDIT</th>\n      <th>AMT_ANNUITY</th>\n      <th>...</th>\n      <th>FLAG_DOCUMENT_18</th>\n      <th>FLAG_DOCUMENT_19</th>\n      <th>FLAG_DOCUMENT_20</th>\n      <th>FLAG_DOCUMENT_21</th>\n      <th>AMT_REQ_CREDIT_BUREAU_HOUR</th>\n      <th>AMT_REQ_CREDIT_BUREAU_DAY</th>\n      <th>AMT_REQ_CREDIT_BUREAU_WEEK</th>\n      <th>AMT_REQ_CREDIT_BUREAU_MON</th>\n      <th>AMT_REQ_CREDIT_BUREAU_QRT</th>\n      <th>AMT_REQ_CREDIT_BUREAU_YEAR</th>\n    </tr>\n  </thead>\n  <tbody>\n    <tr>\n      <th>0</th>\n      <td>100002.0</td>\n      <td>1.0</td>\n      <td>Cash loans</td>\n      <td>M</td>\n      <td>N</td>\n      <td>Y</td>\n      <td>0.0</td>\n      <td>202500.0</td>\n      <td>406597.5</td>\n      <td>24700.5</td>\n      <td>...</td>\n      <td>0.0</td>\n      <td>0.0</td>\n      <td>0.0</td>\n      <td>0.0</td>\n      <td>0.0</td>\n      <td>0.0</td>\n      <td>0.0</td>\n      <td>0.0</td>\n      <td>0.0</td>\n      <td>1.0</td>\n    </tr>\n    <tr>\n      <th>1</th>\n      <td>100003.0</td>\n      <td>0.0</td>\n      <td>Cash loans</td>\n      <td>F</td>\n      <td>N</td>\n      <td>N</td>\n      <td>0.0</td>\n      <td>270000.0</td>\n      <td>1293502.5</td>\n      <td>35698.5</td>\n      <td>...</td>\n      <td>0.0</td>\n      <td>0.0</td>\n      <td>0.0</td>\n      <td>0.0</td>\n      <td>0.0</td>\n      <td>0.0</td>\n      <td>0.0</td>\n      <td>0.0</td>\n      <td>0.0</td>\n      <td>0.0</td>\n    </tr>\n    <tr>\n      <th>2</th>\n      <td>100004.0</td>\n      <td>0.0</td>\n      <td>Revolving loans</td>\n      <td>M</td>\n      <td>Y</td>\n      <td>Y</td>\n      <td>0.0</td>\n      <td>67500.0</td>\n      <td>135000.0</td>\n      <td>6750.0</td>\n      <td>...</td>\n      <td>0.0</td>\n      <td>0.0</td>\n      <td>0.0</td>\n      <td>0.0</td>\n      <td>0.0</td>\n      <td>0.0</td>\n      <td>0.0</td>\n      <td>0.0</td>\n      <td>0.0</td>\n      <td>0.0</td>\n    </tr>\n    <tr>\n      <th>3</th>\n      <td>100006.0</td>\n      <td>0.0</td>\n      <td>Cash loans</td>\n      <td>F</td>\n      <td>N</td>\n      <td>Y</td>\n      <td>0.0</td>\n      <td>135000.0</td>\n      <td>312682.5</td>\n      <td>29686.5</td>\n      <td>...</td>\n      <td>0.0</td>\n      <td>0.0</td>\n      <td>0.0</td>\n      <td>0.0</td>\n      <td>NaN</td>\n      <td>NaN</td>\n      <td>NaN</td>\n      <td>NaN</td>\n      <td>NaN</td>\n      <td>NaN</td>\n    </tr>\n    <tr>\n      <th>4</th>\n      <td>100007.0</td>\n      <td>0.0</td>\n      <td>Cash loans</td>\n      <td>M</td>\n      <td>N</td>\n      <td>Y</td>\n      <td>0.0</td>\n      <td>121500.0</td>\n      <td>513000.0</td>\n      <td>21865.5</td>\n      <td>...</td>\n      <td>0.0</td>\n      <td>0.0</td>\n      <td>0.0</td>\n      <td>0.0</td>\n      <td>0.0</td>\n      <td>0.0</td>\n      <td>0.0</td>\n      <td>0.0</td>\n      <td>0.0</td>\n      <td>0.0</td>\n    </tr>\n  </tbody>\n</table>\n<p>5 rows × 122 columns</p>\n</div>",
       "datasetInfos": [],
       "metadata": {},
       "removedWidgets": [],
       "textData": null,
       "type": "htmlSandbox"
      }
     },
     "output_type": "display_data"
    }
   ],
   "source": [
    "pandas_df_application.head(5)"
   ]
  },
  {
   "cell_type": "code",
   "execution_count": 0,
   "metadata": {
    "application/vnd.databricks.v1+cell": {
     "cellMetadata": {
      "byteLimit": 2048000,
      "rowLimit": 10000
     },
     "inputWidgets": {},
     "nuid": "52a9adf0-aeb8-4662-9548-c3b2d5f83909",
     "showTitle": false,
     "title": ""
    }
   },
   "outputs": [
    {
     "output_type": "display_data",
     "data": {
      "text/html": [
       "<div><style>\n",
       ".dataframe > thead > tr,\n",
       ".dataframe > tbody > tr {\n",
       "  text-align: right;\n",
       "  white-space: pre-wrap;\n",
       "}\n",
       "</style>\n",
       "<small>shape: (5, 122)</small><table border=\"1\" class=\"dataframe\"><thead><tr><th>SK_ID_CURR</th><th>TARGET</th><th>NAME_CONTRACT_TYPE</th><th>CODE_GENDER</th><th>FLAG_OWN_CAR</th><th>FLAG_OWN_REALTY</th><th>CNT_CHILDREN</th><th>AMT_INCOME_TOTAL</th><th>AMT_CREDIT</th><th>AMT_ANNUITY</th><th>AMT_GOODS_PRICE</th><th>NAME_TYPE_SUITE</th><th>NAME_INCOME_TYPE</th><th>NAME_EDUCATION_TYPE</th><th>NAME_FAMILY_STATUS</th><th>NAME_HOUSING_TYPE</th><th>REGION_POPULATION_RELATIVE</th><th>DAYS_BIRTH</th><th>DAYS_EMPLOYED</th><th>DAYS_REGISTRATION</th><th>DAYS_ID_PUBLISH</th><th>OWN_CAR_AGE</th><th>FLAG_MOBIL</th><th>FLAG_EMP_PHONE</th><th>FLAG_WORK_PHONE</th><th>FLAG_CONT_MOBILE</th><th>FLAG_PHONE</th><th>FLAG_EMAIL</th><th>OCCUPATION_TYPE</th><th>CNT_FAM_MEMBERS</th><th>REGION_RATING_CLIENT</th><th>REGION_RATING_CLIENT_W_CITY</th><th>WEEKDAY_APPR_PROCESS_START</th><th>HOUR_APPR_PROCESS_START</th><th>REG_REGION_NOT_LIVE_REGION</th><th>REG_REGION_NOT_WORK_REGION</th><th>LIVE_REGION_NOT_WORK_REGION</th><th>&hellip;</th><th>NONLIVINGAREA_MEDI</th><th>FONDKAPREMONT_MODE</th><th>HOUSETYPE_MODE</th><th>TOTALAREA_MODE</th><th>WALLSMATERIAL_MODE</th><th>EMERGENCYSTATE_MODE</th><th>OBS_30_CNT_SOCIAL_CIRCLE</th><th>DEF_30_CNT_SOCIAL_CIRCLE</th><th>OBS_60_CNT_SOCIAL_CIRCLE</th><th>DEF_60_CNT_SOCIAL_CIRCLE</th><th>DAYS_LAST_PHONE_CHANGE</th><th>FLAG_DOCUMENT_2</th><th>FLAG_DOCUMENT_3</th><th>FLAG_DOCUMENT_4</th><th>FLAG_DOCUMENT_5</th><th>FLAG_DOCUMENT_6</th><th>FLAG_DOCUMENT_7</th><th>FLAG_DOCUMENT_8</th><th>FLAG_DOCUMENT_9</th><th>FLAG_DOCUMENT_10</th><th>FLAG_DOCUMENT_11</th><th>FLAG_DOCUMENT_12</th><th>FLAG_DOCUMENT_13</th><th>FLAG_DOCUMENT_14</th><th>FLAG_DOCUMENT_15</th><th>FLAG_DOCUMENT_16</th><th>FLAG_DOCUMENT_17</th><th>FLAG_DOCUMENT_18</th><th>FLAG_DOCUMENT_19</th><th>FLAG_DOCUMENT_20</th><th>FLAG_DOCUMENT_21</th><th>AMT_REQ_CREDIT_BUREAU_HOUR</th><th>AMT_REQ_CREDIT_BUREAU_DAY</th><th>AMT_REQ_CREDIT_BUREAU_WEEK</th><th>AMT_REQ_CREDIT_BUREAU_MON</th><th>AMT_REQ_CREDIT_BUREAU_QRT</th><th>AMT_REQ_CREDIT_BUREAU_YEAR</th></tr><tr><td>f64</td><td>f64</td><td>str</td><td>str</td><td>str</td><td>str</td><td>f64</td><td>f64</td><td>f64</td><td>f64</td><td>f64</td><td>str</td><td>str</td><td>str</td><td>str</td><td>str</td><td>f64</td><td>f64</td><td>f64</td><td>f64</td><td>f64</td><td>f64</td><td>f64</td><td>f64</td><td>f64</td><td>f64</td><td>f64</td><td>f64</td><td>str</td><td>f64</td><td>f64</td><td>f64</td><td>str</td><td>f64</td><td>f64</td><td>f64</td><td>f64</td><td>&hellip;</td><td>f64</td><td>str</td><td>str</td><td>f64</td><td>str</td><td>str</td><td>f64</td><td>f64</td><td>f64</td><td>f64</td><td>f64</td><td>f64</td><td>f64</td><td>f64</td><td>f64</td><td>f64</td><td>f64</td><td>f64</td><td>f64</td><td>f64</td><td>f64</td><td>f64</td><td>f64</td><td>f64</td><td>f64</td><td>f64</td><td>f64</td><td>f64</td><td>f64</td><td>f64</td><td>f64</td><td>f64</td><td>f64</td><td>f64</td><td>f64</td><td>f64</td><td>f64</td></tr></thead><tbody><tr><td>100002.0</td><td>1.0</td><td>&quot;Cash loans&quot;</td><td>&quot;M&quot;</td><td>&quot;N&quot;</td><td>&quot;Y&quot;</td><td>0.0</td><td>202500.0</td><td>406597.5</td><td>24700.5</td><td>351000.0</td><td>&quot;Unaccompanied&quot;</td><td>&quot;Working&quot;</td><td>&quot;Secondary / secondary special&quot;</td><td>&quot;Single / not married&quot;</td><td>&quot;House / apartment&quot;</td><td>0.018801</td><td>-9461.0</td><td>-637.0</td><td>-3648.0</td><td>-2120.0</td><td>NaN</td><td>1.0</td><td>1.0</td><td>0.0</td><td>1.0</td><td>1.0</td><td>0.0</td><td>&quot;Laborers&quot;</td><td>1.0</td><td>2.0</td><td>2.0</td><td>&quot;WEDNESDAY&quot;</td><td>10.0</td><td>0.0</td><td>0.0</td><td>0.0</td><td>&hellip;</td><td>0.0</td><td>&quot;reg oper account&quot;</td><td>&quot;block of flats&quot;</td><td>0.0149</td><td>&quot;Stone, brick&quot;</td><td>&quot;No&quot;</td><td>2.0</td><td>2.0</td><td>2.0</td><td>2.0</td><td>-1134.0</td><td>0.0</td><td>1.0</td><td>0.0</td><td>0.0</td><td>0.0</td><td>0.0</td><td>0.0</td><td>0.0</td><td>0.0</td><td>0.0</td><td>0.0</td><td>0.0</td><td>0.0</td><td>0.0</td><td>0.0</td><td>0.0</td><td>0.0</td><td>0.0</td><td>0.0</td><td>0.0</td><td>0.0</td><td>0.0</td><td>0.0</td><td>0.0</td><td>0.0</td><td>1.0</td></tr><tr><td>100003.0</td><td>0.0</td><td>&quot;Cash loans&quot;</td><td>&quot;F&quot;</td><td>&quot;N&quot;</td><td>&quot;N&quot;</td><td>0.0</td><td>270000.0</td><td>1293502.5</td><td>35698.5</td><td>1.1295e6</td><td>&quot;Family&quot;</td><td>&quot;State servant&quot;</td><td>&quot;Higher education&quot;</td><td>&quot;Married&quot;</td><td>&quot;House / apartment&quot;</td><td>0.003541</td><td>-16765.0</td><td>-1188.0</td><td>-1186.0</td><td>-291.0</td><td>NaN</td><td>1.0</td><td>1.0</td><td>0.0</td><td>1.0</td><td>1.0</td><td>0.0</td><td>&quot;Core staff&quot;</td><td>2.0</td><td>1.0</td><td>1.0</td><td>&quot;MONDAY&quot;</td><td>11.0</td><td>0.0</td><td>0.0</td><td>0.0</td><td>&hellip;</td><td>0.01</td><td>&quot;reg oper account&quot;</td><td>&quot;block of flats&quot;</td><td>0.0714</td><td>&quot;Block&quot;</td><td>&quot;No&quot;</td><td>1.0</td><td>0.0</td><td>1.0</td><td>0.0</td><td>-828.0</td><td>0.0</td><td>1.0</td><td>0.0</td><td>0.0</td><td>0.0</td><td>0.0</td><td>0.0</td><td>0.0</td><td>0.0</td><td>0.0</td><td>0.0</td><td>0.0</td><td>0.0</td><td>0.0</td><td>0.0</td><td>0.0</td><td>0.0</td><td>0.0</td><td>0.0</td><td>0.0</td><td>0.0</td><td>0.0</td><td>0.0</td><td>0.0</td><td>0.0</td><td>0.0</td></tr><tr><td>100004.0</td><td>0.0</td><td>&quot;Revolving loans&quot;</td><td>&quot;M&quot;</td><td>&quot;Y&quot;</td><td>&quot;Y&quot;</td><td>0.0</td><td>67500.0</td><td>135000.0</td><td>6750.0</td><td>135000.0</td><td>&quot;Unaccompanied&quot;</td><td>&quot;Working&quot;</td><td>&quot;Secondary / secondary special&quot;</td><td>&quot;Single / not married&quot;</td><td>&quot;House / apartment&quot;</td><td>0.010032</td><td>-19046.0</td><td>-225.0</td><td>-4260.0</td><td>-2531.0</td><td>26.0</td><td>1.0</td><td>1.0</td><td>1.0</td><td>1.0</td><td>1.0</td><td>0.0</td><td>&quot;Laborers&quot;</td><td>1.0</td><td>2.0</td><td>2.0</td><td>&quot;MONDAY&quot;</td><td>9.0</td><td>0.0</td><td>0.0</td><td>0.0</td><td>&hellip;</td><td>NaN</td><td>null</td><td>null</td><td>NaN</td><td>null</td><td>null</td><td>0.0</td><td>0.0</td><td>0.0</td><td>0.0</td><td>-815.0</td><td>0.0</td><td>0.0</td><td>0.0</td><td>0.0</td><td>0.0</td><td>0.0</td><td>0.0</td><td>0.0</td><td>0.0</td><td>0.0</td><td>0.0</td><td>0.0</td><td>0.0</td><td>0.0</td><td>0.0</td><td>0.0</td><td>0.0</td><td>0.0</td><td>0.0</td><td>0.0</td><td>0.0</td><td>0.0</td><td>0.0</td><td>0.0</td><td>0.0</td><td>0.0</td></tr><tr><td>100006.0</td><td>0.0</td><td>&quot;Cash loans&quot;</td><td>&quot;F&quot;</td><td>&quot;N&quot;</td><td>&quot;Y&quot;</td><td>0.0</td><td>135000.0</td><td>312682.5</td><td>29686.5</td><td>297000.0</td><td>&quot;Unaccompanied&quot;</td><td>&quot;Working&quot;</td><td>&quot;Secondary / secondary special&quot;</td><td>&quot;Civil marriage&quot;</td><td>&quot;House / apartment&quot;</td><td>0.008019</td><td>-19005.0</td><td>-3039.0</td><td>-9833.0</td><td>-2437.0</td><td>NaN</td><td>1.0</td><td>1.0</td><td>0.0</td><td>1.0</td><td>0.0</td><td>0.0</td><td>&quot;Laborers&quot;</td><td>2.0</td><td>2.0</td><td>2.0</td><td>&quot;WEDNESDAY&quot;</td><td>17.0</td><td>0.0</td><td>0.0</td><td>0.0</td><td>&hellip;</td><td>NaN</td><td>null</td><td>null</td><td>NaN</td><td>null</td><td>null</td><td>2.0</td><td>0.0</td><td>2.0</td><td>0.0</td><td>-617.0</td><td>0.0</td><td>1.0</td><td>0.0</td><td>0.0</td><td>0.0</td><td>0.0</td><td>0.0</td><td>0.0</td><td>0.0</td><td>0.0</td><td>0.0</td><td>0.0</td><td>0.0</td><td>0.0</td><td>0.0</td><td>0.0</td><td>0.0</td><td>0.0</td><td>0.0</td><td>0.0</td><td>NaN</td><td>NaN</td><td>NaN</td><td>NaN</td><td>NaN</td><td>NaN</td></tr><tr><td>100007.0</td><td>0.0</td><td>&quot;Cash loans&quot;</td><td>&quot;M&quot;</td><td>&quot;N&quot;</td><td>&quot;Y&quot;</td><td>0.0</td><td>121500.0</td><td>513000.0</td><td>21865.5</td><td>513000.0</td><td>&quot;Unaccompanied&quot;</td><td>&quot;Working&quot;</td><td>&quot;Secondary / secondary special&quot;</td><td>&quot;Single / not married&quot;</td><td>&quot;House / apartment&quot;</td><td>0.028663</td><td>-19932.0</td><td>-3038.0</td><td>-4311.0</td><td>-3458.0</td><td>NaN</td><td>1.0</td><td>1.0</td><td>0.0</td><td>1.0</td><td>0.0</td><td>0.0</td><td>&quot;Core staff&quot;</td><td>1.0</td><td>2.0</td><td>2.0</td><td>&quot;THURSDAY&quot;</td><td>11.0</td><td>0.0</td><td>0.0</td><td>0.0</td><td>&hellip;</td><td>NaN</td><td>null</td><td>null</td><td>NaN</td><td>null</td><td>null</td><td>0.0</td><td>0.0</td><td>0.0</td><td>0.0</td><td>-1106.0</td><td>0.0</td><td>0.0</td><td>0.0</td><td>0.0</td><td>0.0</td><td>0.0</td><td>1.0</td><td>0.0</td><td>0.0</td><td>0.0</td><td>0.0</td><td>0.0</td><td>0.0</td><td>0.0</td><td>0.0</td><td>0.0</td><td>0.0</td><td>0.0</td><td>0.0</td><td>0.0</td><td>0.0</td><td>0.0</td><td>0.0</td><td>0.0</td><td>0.0</td><td>0.0</td></tr></tbody></table></div>"
      ]
     },
     "metadata": {
      "application/vnd.databricks.v1+output": {
       "addedWidgets": {},
       "arguments": {},
       "data": "<div><style>\n.dataframe > thead > tr,\n.dataframe > tbody > tr {\n  text-align: right;\n  white-space: pre-wrap;\n}\n</style>\n<small>shape: (5, 122)</small><table border=\"1\" class=\"dataframe\"><thead><tr><th>SK_ID_CURR</th><th>TARGET</th><th>NAME_CONTRACT_TYPE</th><th>CODE_GENDER</th><th>FLAG_OWN_CAR</th><th>FLAG_OWN_REALTY</th><th>CNT_CHILDREN</th><th>AMT_INCOME_TOTAL</th><th>AMT_CREDIT</th><th>AMT_ANNUITY</th><th>AMT_GOODS_PRICE</th><th>NAME_TYPE_SUITE</th><th>NAME_INCOME_TYPE</th><th>NAME_EDUCATION_TYPE</th><th>NAME_FAMILY_STATUS</th><th>NAME_HOUSING_TYPE</th><th>REGION_POPULATION_RELATIVE</th><th>DAYS_BIRTH</th><th>DAYS_EMPLOYED</th><th>DAYS_REGISTRATION</th><th>DAYS_ID_PUBLISH</th><th>OWN_CAR_AGE</th><th>FLAG_MOBIL</th><th>FLAG_EMP_PHONE</th><th>FLAG_WORK_PHONE</th><th>FLAG_CONT_MOBILE</th><th>FLAG_PHONE</th><th>FLAG_EMAIL</th><th>OCCUPATION_TYPE</th><th>CNT_FAM_MEMBERS</th><th>REGION_RATING_CLIENT</th><th>REGION_RATING_CLIENT_W_CITY</th><th>WEEKDAY_APPR_PROCESS_START</th><th>HOUR_APPR_PROCESS_START</th><th>REG_REGION_NOT_LIVE_REGION</th><th>REG_REGION_NOT_WORK_REGION</th><th>LIVE_REGION_NOT_WORK_REGION</th><th>&hellip;</th><th>NONLIVINGAREA_MEDI</th><th>FONDKAPREMONT_MODE</th><th>HOUSETYPE_MODE</th><th>TOTALAREA_MODE</th><th>WALLSMATERIAL_MODE</th><th>EMERGENCYSTATE_MODE</th><th>OBS_30_CNT_SOCIAL_CIRCLE</th><th>DEF_30_CNT_SOCIAL_CIRCLE</th><th>OBS_60_CNT_SOCIAL_CIRCLE</th><th>DEF_60_CNT_SOCIAL_CIRCLE</th><th>DAYS_LAST_PHONE_CHANGE</th><th>FLAG_DOCUMENT_2</th><th>FLAG_DOCUMENT_3</th><th>FLAG_DOCUMENT_4</th><th>FLAG_DOCUMENT_5</th><th>FLAG_DOCUMENT_6</th><th>FLAG_DOCUMENT_7</th><th>FLAG_DOCUMENT_8</th><th>FLAG_DOCUMENT_9</th><th>FLAG_DOCUMENT_10</th><th>FLAG_DOCUMENT_11</th><th>FLAG_DOCUMENT_12</th><th>FLAG_DOCUMENT_13</th><th>FLAG_DOCUMENT_14</th><th>FLAG_DOCUMENT_15</th><th>FLAG_DOCUMENT_16</th><th>FLAG_DOCUMENT_17</th><th>FLAG_DOCUMENT_18</th><th>FLAG_DOCUMENT_19</th><th>FLAG_DOCUMENT_20</th><th>FLAG_DOCUMENT_21</th><th>AMT_REQ_CREDIT_BUREAU_HOUR</th><th>AMT_REQ_CREDIT_BUREAU_DAY</th><th>AMT_REQ_CREDIT_BUREAU_WEEK</th><th>AMT_REQ_CREDIT_BUREAU_MON</th><th>AMT_REQ_CREDIT_BUREAU_QRT</th><th>AMT_REQ_CREDIT_BUREAU_YEAR</th></tr><tr><td>f64</td><td>f64</td><td>str</td><td>str</td><td>str</td><td>str</td><td>f64</td><td>f64</td><td>f64</td><td>f64</td><td>f64</td><td>str</td><td>str</td><td>str</td><td>str</td><td>str</td><td>f64</td><td>f64</td><td>f64</td><td>f64</td><td>f64</td><td>f64</td><td>f64</td><td>f64</td><td>f64</td><td>f64</td><td>f64</td><td>f64</td><td>str</td><td>f64</td><td>f64</td><td>f64</td><td>str</td><td>f64</td><td>f64</td><td>f64</td><td>f64</td><td>&hellip;</td><td>f64</td><td>str</td><td>str</td><td>f64</td><td>str</td><td>str</td><td>f64</td><td>f64</td><td>f64</td><td>f64</td><td>f64</td><td>f64</td><td>f64</td><td>f64</td><td>f64</td><td>f64</td><td>f64</td><td>f64</td><td>f64</td><td>f64</td><td>f64</td><td>f64</td><td>f64</td><td>f64</td><td>f64</td><td>f64</td><td>f64</td><td>f64</td><td>f64</td><td>f64</td><td>f64</td><td>f64</td><td>f64</td><td>f64</td><td>f64</td><td>f64</td><td>f64</td></tr></thead><tbody><tr><td>100002.0</td><td>1.0</td><td>&quot;Cash loans&quot;</td><td>&quot;M&quot;</td><td>&quot;N&quot;</td><td>&quot;Y&quot;</td><td>0.0</td><td>202500.0</td><td>406597.5</td><td>24700.5</td><td>351000.0</td><td>&quot;Unaccompanied&quot;</td><td>&quot;Working&quot;</td><td>&quot;Secondary / secondary special&quot;</td><td>&quot;Single / not married&quot;</td><td>&quot;House / apartment&quot;</td><td>0.018801</td><td>-9461.0</td><td>-637.0</td><td>-3648.0</td><td>-2120.0</td><td>NaN</td><td>1.0</td><td>1.0</td><td>0.0</td><td>1.0</td><td>1.0</td><td>0.0</td><td>&quot;Laborers&quot;</td><td>1.0</td><td>2.0</td><td>2.0</td><td>&quot;WEDNESDAY&quot;</td><td>10.0</td><td>0.0</td><td>0.0</td><td>0.0</td><td>&hellip;</td><td>0.0</td><td>&quot;reg oper account&quot;</td><td>&quot;block of flats&quot;</td><td>0.0149</td><td>&quot;Stone, brick&quot;</td><td>&quot;No&quot;</td><td>2.0</td><td>2.0</td><td>2.0</td><td>2.0</td><td>-1134.0</td><td>0.0</td><td>1.0</td><td>0.0</td><td>0.0</td><td>0.0</td><td>0.0</td><td>0.0</td><td>0.0</td><td>0.0</td><td>0.0</td><td>0.0</td><td>0.0</td><td>0.0</td><td>0.0</td><td>0.0</td><td>0.0</td><td>0.0</td><td>0.0</td><td>0.0</td><td>0.0</td><td>0.0</td><td>0.0</td><td>0.0</td><td>0.0</td><td>0.0</td><td>1.0</td></tr><tr><td>100003.0</td><td>0.0</td><td>&quot;Cash loans&quot;</td><td>&quot;F&quot;</td><td>&quot;N&quot;</td><td>&quot;N&quot;</td><td>0.0</td><td>270000.0</td><td>1293502.5</td><td>35698.5</td><td>1.1295e6</td><td>&quot;Family&quot;</td><td>&quot;State servant&quot;</td><td>&quot;Higher education&quot;</td><td>&quot;Married&quot;</td><td>&quot;House / apartment&quot;</td><td>0.003541</td><td>-16765.0</td><td>-1188.0</td><td>-1186.0</td><td>-291.0</td><td>NaN</td><td>1.0</td><td>1.0</td><td>0.0</td><td>1.0</td><td>1.0</td><td>0.0</td><td>&quot;Core staff&quot;</td><td>2.0</td><td>1.0</td><td>1.0</td><td>&quot;MONDAY&quot;</td><td>11.0</td><td>0.0</td><td>0.0</td><td>0.0</td><td>&hellip;</td><td>0.01</td><td>&quot;reg oper account&quot;</td><td>&quot;block of flats&quot;</td><td>0.0714</td><td>&quot;Block&quot;</td><td>&quot;No&quot;</td><td>1.0</td><td>0.0</td><td>1.0</td><td>0.0</td><td>-828.0</td><td>0.0</td><td>1.0</td><td>0.0</td><td>0.0</td><td>0.0</td><td>0.0</td><td>0.0</td><td>0.0</td><td>0.0</td><td>0.0</td><td>0.0</td><td>0.0</td><td>0.0</td><td>0.0</td><td>0.0</td><td>0.0</td><td>0.0</td><td>0.0</td><td>0.0</td><td>0.0</td><td>0.0</td><td>0.0</td><td>0.0</td><td>0.0</td><td>0.0</td><td>0.0</td></tr><tr><td>100004.0</td><td>0.0</td><td>&quot;Revolving loans&quot;</td><td>&quot;M&quot;</td><td>&quot;Y&quot;</td><td>&quot;Y&quot;</td><td>0.0</td><td>67500.0</td><td>135000.0</td><td>6750.0</td><td>135000.0</td><td>&quot;Unaccompanied&quot;</td><td>&quot;Working&quot;</td><td>&quot;Secondary / secondary special&quot;</td><td>&quot;Single / not married&quot;</td><td>&quot;House / apartment&quot;</td><td>0.010032</td><td>-19046.0</td><td>-225.0</td><td>-4260.0</td><td>-2531.0</td><td>26.0</td><td>1.0</td><td>1.0</td><td>1.0</td><td>1.0</td><td>1.0</td><td>0.0</td><td>&quot;Laborers&quot;</td><td>1.0</td><td>2.0</td><td>2.0</td><td>&quot;MONDAY&quot;</td><td>9.0</td><td>0.0</td><td>0.0</td><td>0.0</td><td>&hellip;</td><td>NaN</td><td>null</td><td>null</td><td>NaN</td><td>null</td><td>null</td><td>0.0</td><td>0.0</td><td>0.0</td><td>0.0</td><td>-815.0</td><td>0.0</td><td>0.0</td><td>0.0</td><td>0.0</td><td>0.0</td><td>0.0</td><td>0.0</td><td>0.0</td><td>0.0</td><td>0.0</td><td>0.0</td><td>0.0</td><td>0.0</td><td>0.0</td><td>0.0</td><td>0.0</td><td>0.0</td><td>0.0</td><td>0.0</td><td>0.0</td><td>0.0</td><td>0.0</td><td>0.0</td><td>0.0</td><td>0.0</td><td>0.0</td></tr><tr><td>100006.0</td><td>0.0</td><td>&quot;Cash loans&quot;</td><td>&quot;F&quot;</td><td>&quot;N&quot;</td><td>&quot;Y&quot;</td><td>0.0</td><td>135000.0</td><td>312682.5</td><td>29686.5</td><td>297000.0</td><td>&quot;Unaccompanied&quot;</td><td>&quot;Working&quot;</td><td>&quot;Secondary / secondary special&quot;</td><td>&quot;Civil marriage&quot;</td><td>&quot;House / apartment&quot;</td><td>0.008019</td><td>-19005.0</td><td>-3039.0</td><td>-9833.0</td><td>-2437.0</td><td>NaN</td><td>1.0</td><td>1.0</td><td>0.0</td><td>1.0</td><td>0.0</td><td>0.0</td><td>&quot;Laborers&quot;</td><td>2.0</td><td>2.0</td><td>2.0</td><td>&quot;WEDNESDAY&quot;</td><td>17.0</td><td>0.0</td><td>0.0</td><td>0.0</td><td>&hellip;</td><td>NaN</td><td>null</td><td>null</td><td>NaN</td><td>null</td><td>null</td><td>2.0</td><td>0.0</td><td>2.0</td><td>0.0</td><td>-617.0</td><td>0.0</td><td>1.0</td><td>0.0</td><td>0.0</td><td>0.0</td><td>0.0</td><td>0.0</td><td>0.0</td><td>0.0</td><td>0.0</td><td>0.0</td><td>0.0</td><td>0.0</td><td>0.0</td><td>0.0</td><td>0.0</td><td>0.0</td><td>0.0</td><td>0.0</td><td>0.0</td><td>NaN</td><td>NaN</td><td>NaN</td><td>NaN</td><td>NaN</td><td>NaN</td></tr><tr><td>100007.0</td><td>0.0</td><td>&quot;Cash loans&quot;</td><td>&quot;M&quot;</td><td>&quot;N&quot;</td><td>&quot;Y&quot;</td><td>0.0</td><td>121500.0</td><td>513000.0</td><td>21865.5</td><td>513000.0</td><td>&quot;Unaccompanied&quot;</td><td>&quot;Working&quot;</td><td>&quot;Secondary / secondary special&quot;</td><td>&quot;Single / not married&quot;</td><td>&quot;House / apartment&quot;</td><td>0.028663</td><td>-19932.0</td><td>-3038.0</td><td>-4311.0</td><td>-3458.0</td><td>NaN</td><td>1.0</td><td>1.0</td><td>0.0</td><td>1.0</td><td>0.0</td><td>0.0</td><td>&quot;Core staff&quot;</td><td>1.0</td><td>2.0</td><td>2.0</td><td>&quot;THURSDAY&quot;</td><td>11.0</td><td>0.0</td><td>0.0</td><td>0.0</td><td>&hellip;</td><td>NaN</td><td>null</td><td>null</td><td>NaN</td><td>null</td><td>null</td><td>0.0</td><td>0.0</td><td>0.0</td><td>0.0</td><td>-1106.0</td><td>0.0</td><td>0.0</td><td>0.0</td><td>0.0</td><td>0.0</td><td>0.0</td><td>1.0</td><td>0.0</td><td>0.0</td><td>0.0</td><td>0.0</td><td>0.0</td><td>0.0</td><td>0.0</td><td>0.0</td><td>0.0</td><td>0.0</td><td>0.0</td><td>0.0</td><td>0.0</td><td>0.0</td><td>0.0</td><td>0.0</td><td>0.0</td><td>0.0</td><td>0.0</td></tr></tbody></table></div>",
       "datasetInfos": [],
       "metadata": {},
       "removedWidgets": [],
       "textData": null,
       "type": "htmlSandbox"
      }
     },
     "output_type": "display_data"
    }
   ],
   "source": [
    "polars_df_application.head(5)"
   ]
  },
  {
   "cell_type": "code",
   "execution_count": 0,
   "metadata": {
    "application/vnd.databricks.v1+cell": {
     "cellMetadata": {
      "byteLimit": 2048000,
      "rowLimit": 10000
     },
     "inputWidgets": {},
     "nuid": "42f45b6f-a65b-47a1-8dcb-ca340e3f00af",
     "showTitle": false,
     "title": ""
    }
   },
   "outputs": [
    {
     "output_type": "stream",
     "name": "stdout",
     "output_type": "stream",
     "text": [
      "+---------------+-------------+\n|   CustomerName|      Country|\n+---------------+-------------+\n|    Claire Gute|United States|\n|Darrin Van Huff|United States|\n| Sean O'Donnell|United States|\n|Brosina Hoffman|United States|\n|   Andrew Allen|United States|\n+---------------+-------------+\nonly showing top 5 rows\n\n"
     ]
    }
   ],
   "source": [
    "# Select one or more columns from the DataFrame\n",
    "two_col_customer_sp = spark_df_customer.select(\"CustomerName\", \"Country\")\n",
    "two_col_customer_sp.show(5)"
   ]
  },
  {
   "cell_type": "code",
   "execution_count": 0,
   "metadata": {
    "application/vnd.databricks.v1+cell": {
     "cellMetadata": {
      "byteLimit": 2048000,
      "rowLimit": 10000
     },
     "inputWidgets": {},
     "nuid": "9af49e63-634a-48ab-a338-816be695f2c6",
     "showTitle": false,
     "title": ""
    }
   },
   "outputs": [
    {
     "output_type": "stream",
     "name": "stdout",
     "output_type": "stream",
     "text": [
      "+----------+------------------+-----------+---+-------------+---------------+--------------+----------+-------+\n|CustomerID|      CustomerName|    Segment|Age|      Country|           City|         State|PostalCode| Region|\n+----------+------------------+-----------+---+-------------+---------------+--------------+----------+-------+\n|  CG-12520|       Claire Gute|   Consumer| 67|United States|      Henderson|      Kentucky|     42420|  South|\n|  SO-20335|    Sean O'Donnell|   Consumer| 65|United States|Fort Lauderdale|       Florida|     33311|  South|\n|  AA-10480|      Andrew Allen|   Consumer| 50|United States|        Concord|North Carolina|     28027|  South|\n|  IM-15070|      Irene Maddox|   Consumer| 66|United States|        Seattle|    Washington|     98103|   West|\n|  PK-19075|         Pete Kriz|   Consumer| 46|United States|        Madison|     Wisconsin|     53711|Central|\n|  ZD-21925|Zuschuss Donatelli|   Consumer| 66|United States|  San Francisco|    California|     94109|   West|\n|  KB-16585|         Ken Black|  Corporate| 67|United States|        Fremont|      Nebraska|     68025|Central|\n|  SF-20065|   Sandra Flanagan|   Consumer| 41|United States|   Philadelphia|  Pennsylvania|     19140|   East|\n|  TB-21520|   Tracy Blumstein|   Consumer| 48|United States|   Philadelphia|  Pennsylvania|     19140|   East|\n|  SN-20710|      Steve Nguyen|Home Office| 46|United States|        Houston|         Texas|     77041|Central|\n|  RA-19885|      Ruben Ausman|  Corporate| 51|United States|    Los Angeles|    California|     90049|   West|\n|  PO-18865| Patrick O'Donnell|   Consumer| 64|United States|       Westland|      Michigan|     48185|Central|\n|  LH-16900|    Lena Hernandez|   Consumer| 66|United States|          Dover|      Delaware|     19901|   East|\n|  DP-13000|     Darren Powers|   Consumer| 40|United States|     New Albany|       Indiana|     47150|Central|\n|  KM-16720|      Kunst Miller|   Consumer| 69|United States|    Los Angeles|    California|     90004|   West|\n|  BS-11590|     Brendan Sweed|  Corporate| 45|United States|        Gilbert|       Arizona|     85234|   West|\n|  KD-16270|     Karen Daniels|   Consumer| 59|United States|    Springfield|      Virginia|     22153|  South|\n|  DN-13690|      Duane Noonan|   Consumer| 42|United States|  San Francisco|    California|     94122|   West|\n|  JC-16105|   Julie Creighton|  Corporate| 56|United States|         Durham|North Carolina|     27707|  South|\n|  PG-18895|     Paul Gonzalez|   Consumer| 64|United States|      Rochester|     Minnesota|     55901|Central|\n+----------+------------------+-----------+---+-------------+---------------+--------------+----------+-------+\nonly showing top 20 rows\n\n"
     ]
    }
   ],
   "source": [
    "filter_age_customer_sp = spark_df_customer.filter(spark_df_customer['Age']>38)\n",
    "filter_age_customer_sp.show()"
   ]
  },
  {
   "cell_type": "code",
   "execution_count": 0,
   "metadata": {
    "application/vnd.databricks.v1+cell": {
     "cellMetadata": {
      "byteLimit": 2048000,
      "rowLimit": 10000
     },
     "inputWidgets": {},
     "nuid": "7f333ed4-d75e-4bf6-8d1a-4985bc066e84",
     "showTitle": false,
     "title": ""
    }
   },
   "outputs": [
    {
     "output_type": "stream",
     "name": "stdout",
     "output_type": "stream",
     "text": [
      "+--------------------+----------+\n|               State|count(Age)|\n+--------------------+----------+\n|                Utah|         6|\n|           Minnesota|        13|\n|                Ohio|        38|\n|              Oregon|         3|\n|            Arkansas|         2|\n|               Texas|        77|\n|        Pennsylvania|        50|\n|         Connecticut|         7|\n|            Nebraska|         2|\n|              Nevada|         2|\n|          Washington|        38|\n|            Illinois|        41|\n|            Oklahoma|         3|\n|District of Columbia|         1|\n|            Delaware|         6|\n|          New Mexico|         4|\n|            Missouri|         6|\n|        Rhode Island|         5|\n|             Georgia|        17|\n|            Michigan|        16|\n+--------------------+----------+\nonly showing top 20 rows\n\n"
     ]
    }
   ],
   "source": [
    "from pyspark.sql import functions as F\n",
    "\n",
    "# Group by one column and count another\n",
    "# aggregate_customer_sp = spark_df_customer.groupBy(\"Country\").agg(F.count(\"State\"))\n",
    "aggregate_customer_sp = spark_df_customer.groupBy(\"State\").agg(F.count(\"Age\"))\n",
    "aggregate_customer_sp.show()"
   ]
  },
  {
   "cell_type": "code",
   "execution_count": 0,
   "metadata": {
    "application/vnd.databricks.v1+cell": {
     "cellMetadata": {
      "byteLimit": 2048000,
      "rowLimit": 10000
     },
     "inputWidgets": {},
     "nuid": "c6052749-dbec-4bc1-a79a-693d1eaf8d2e",
     "showTitle": false,
     "title": ""
    }
   },
   "outputs": [
    {
     "output_type": "stream",
     "name": "stdout",
     "output_type": "stream",
     "text": [
      "793\n41\n"
     ]
    }
   ],
   "source": [
    "print(spark_df_customer.count())\n",
    "print(aggregate_customer_sp.count())"
   ]
  },
  {
   "cell_type": "code",
   "execution_count": 0,
   "metadata": {
    "application/vnd.databricks.v1+cell": {
     "cellMetadata": {
      "byteLimit": 2048000,
      "rowLimit": 10000
     },
     "inputWidgets": {},
     "nuid": "bc989cf7-16f2-4582-bc59-2b6f6658b489",
     "showTitle": false,
     "title": ""
    }
   },
   "outputs": [
    {
     "output_type": "stream",
     "name": "stdout",
     "output_type": "stream",
     "text": [
      "+----------+----------------+-----------+---+-------------+----------------+------------+----------+-------+\n|CustomerID|    CustomerName|    Segment|Age|      Country|            City|       State|PostalCode| Region|\n+----------+----------------+-----------+---+-------------+----------------+------------+----------+-------+\n|  SD-20485| Shirley Daniels|Home Office| 70|United States|    New Rochelle|    New York|     10801|   East|\n|  JL-15850|      John Lucas|   Consumer| 70|United States|    Philadelphia|Pennsylvania|     19134|   East|\n|  JD-16060|    Julia Dunbar|   Consumer| 70|United States|   San Francisco|  California|     94109|   West|\n|  KB-16315|      Karl Braun|   Consumer| 70|United States|     Minneapolis|   Minnesota|     55407|Central|\n|  RB-19360|    Raymond Buch|   Consumer| 70|United States|          Auburn|    New York|     13021|   East|\n|  MY-17380| Maribeth Yedwab|  Corporate| 70|United States|          Parker|    Colorado|     80134|   West|\n|  NP-18325|    Naresj Patel|   Consumer| 70|United States|      Waynesboro|    Virginia|     22980|  South|\n|  JF-15355|        Jay Fein|   Consumer| 70|United States|          Austin|       Texas|     78745|Central|\n|  KM-16375|Katherine Murray|Home Office| 70|United States|           Salem|    Virginia|     24153|  South|\n|  CD-12790| Cynthia Delaney|Home Office| 70|United States|       San Diego|  California|     92037|   West|\n|  BT-11680|  Brian Thompson|   Consumer| 70|United States|          Newark|        Ohio|     43055|   East|\n|  PW-19240|    Pierre Wener|   Consumer| 70|United States|      Louisville|    Colorado|     80027|   West|\n|  JR-15700|  Jocasta Rupert|   Consumer| 69|United States|    Jacksonville|     Florida|     32216|  South|\n|  AG-10525|    Andy Gerbode|  Corporate| 69|United States|Saint Petersburg|     Florida|     33710|  South|\n|  AC-10420|   Alyssa Crouse|  Corporate| 69|United States|   San Francisco|  California|     94122|   West|\n|  VM-21685| Valerie Mitchum|Home Office| 69|United States|       Westfield|  New Jersey|      7090|   East|\n|  SJ-20500| Shirley Jackson|   Consumer| 69|United States|         Houston|       Texas|     77036|Central|\n|  MT-18070|   Michelle Tran|Home Office| 69|United States|     Los Angeles|  California|     90045|   West|\n|  KM-16720|    Kunst Miller|   Consumer| 69|United States|     Los Angeles|  California|     90004|   West|\n|  AG-10675|     Anna Gayman|   Consumer| 69|United States|         Houston|       Texas|     77036|Central|\n+----------+----------------+-----------+---+-------------+----------------+------------+----------+-------+\nonly showing top 20 rows\n\n"
     ]
    }
   ],
   "source": [
    "# order\n",
    "\n",
    "# Sort DataFrame by a column in ascending or descending order\n",
    "sort_customer_sp = spark_df_customer.orderBy(spark_df_customer[\"Age\"].desc())\n",
    "sort_customer_sp.count()\n",
    "sort_customer_sp.show()"
   ]
  },
  {
   "cell_type": "markdown",
   "metadata": {
    "application/vnd.databricks.v1+cell": {
     "cellMetadata": {},
     "inputWidgets": {},
     "nuid": "82d10355-6456-4249-a6a3-437deecdea3c",
     "showTitle": false,
     "title": ""
    }
   },
   "source": [
    "\n",
    "# SQL"
   ]
  },
  {
   "cell_type": "code",
   "execution_count": 0,
   "metadata": {
    "application/vnd.databricks.v1+cell": {
     "cellMetadata": {
      "byteLimit": 2048000,
      "rowLimit": 10000
     },
     "inputWidgets": {},
     "nuid": "4d1d0cae-8c15-485b-96a0-5ceeafe1416f",
     "showTitle": false,
     "title": ""
    }
   },
   "outputs": [
    {
     "output_type": "stream",
     "name": "stdout",
     "output_type": "stream",
     "text": [
      "+----------+-------------------+-----------+---+-------------+---------------+--------+----------+-------+\n|CustomerID|       CustomerName|    Segment|Age|      Country|           City|   State|PostalCode| Region|\n+----------+-------------------+-----------+---+-------------+---------------+--------+----------+-------+\n|  PO-18865|  Patrick O'Donnell|   Consumer| 64|United States|       Westland|Michigan|     48185|Central|\n|  JH-15985|        Joseph Holt|   Consumer| 51|United States|        Saginaw|Michigan|     48601|Central|\n|  DS-13180|        David Smith|  Corporate| 41|United States|        Detroit|Michigan|     48227|Central|\n|  LA-16780|    Laura Armstrong|  Corporate| 59|United States|         Taylor|Michigan|     48180|Central|\n|  MC-17605|       Matt Connell|  Corporate| 49|United States|        Detroit|Michigan|     48234|Central|\n|  SF-20965|    Sylvia Foulston|  Corporate| 64|United States|       Dearborn|Michigan|     48126|Central|\n|  SC-20305|   Sean Christensen|   Consumer| 30|United States|Rochester Hills|Michigan|     48307|Central|\n|  RF-19735|       Roland Fjeld|   Consumer| 38|United States|        Trenton|Michigan|     48183|Central|\n|  PM-19135|        Peter McVee|Home Office| 65|United States|        Detroit|Michigan|     48227|Central|\n|  MS-17365|Maribeth Schnelling|   Consumer| 55|United States|        Detroit|Michigan|     48227|Central|\n|  BE-11335|        Bill Eplett|Home Office| 20|United States|        Jackson|Michigan|     49201|Central|\n|  BT-11395|         Bill Tyler|  Corporate| 32|United States|        Detroit|Michigan|     48227|Central|\n|  NC-18340|        Nat Carroll|   Consumer| 45|United States|        Lansing|Michigan|     48911|Central|\n|  PM-18940|     Paul MacIntyre|   Consumer| 41|United States|        Jackson|Michigan|     49201|Central|\n|  DM-12955|       Dario Medina|  Corporate| 26|United States|   Lincoln Park|Michigan|     48146|Central|\n|  SW-20350|         Sean Wendt|Home Office| 51|United States|        Detroit|Michigan|     48227|Central|\n+----------+-------------------+-----------+---+-------------+---------------+--------+----------+-------+\n\n"
     ]
    }
   ],
   "source": [
    "# SQL queries\n",
    "\n",
    "# Register the DataFrame as a temp view\n",
    "spark_df_customer.createOrReplaceTempView(\"customer_table\")\n",
    "\n",
    "# Execute SQL query\n",
    "customer_state_sql = spark.sql(\"SELECT * FROM customer_table WHERE State = 'Michigan'\")\n",
    "customer_state_sql.show()"
   ]
  },
  {
   "cell_type": "code",
   "execution_count": 0,
   "metadata": {
    "application/vnd.databricks.v1+cell": {
     "cellMetadata": {
      "byteLimit": 2048000,
      "rowLimit": 10000
     },
     "inputWidgets": {},
     "nuid": "260a1f7e-00b4-4e28-9b85-32d7ec0f3df1",
     "showTitle": false,
     "title": ""
    }
   },
   "outputs": [
    {
     "output_type": "stream",
     "name": "stdout",
     "output_type": "stream",
     "text": [
      "+----------+------------+-------+---+-------+----+-----+----------+------+\n|CustomerID|CustomerName|Segment|Age|Country|City|State|PostalCode|Region|\n+----------+------------+-------+---+-------+----+-----+----------+------+\n+----------+------------+-------+---+-------+----+-----+----------+------+\n\n"
     ]
    }
   ],
   "source": [
    "# Filter out rows with null or empty values in specific columns\n",
    "customer_empty_rows = spark_df_customer.filter((spark_df_customer[\"PostalCode\"].isNull() | spark_df_customer[\"PostalCode\"].eqNullSafe(\"\")) | (spark_df_customer[\"PostalCode\"].isNull()))\n",
    "\n",
    "# Show the resulting DataFrame\n",
    "customer_empty_rows.show()\n"
   ]
  },
  {
   "cell_type": "code",
   "execution_count": 0,
   "metadata": {
    "application/vnd.databricks.v1+cell": {
     "cellMetadata": {
      "byteLimit": 2048000,
      "rowLimit": 10000
     },
     "inputWidgets": {},
     "nuid": "41b5bb16-954b-41b2-b7e8-20392e0ec230",
     "showTitle": false,
     "title": ""
    }
   },
   "outputs": [
    {
     "output_type": "stream",
     "name": "stdout",
     "output_type": "stream",
     "text": [
      "+----------+------------+-------+---+-------+----+-----+----------+------+\n|CustomerID|CustomerName|Segment|Age|Country|City|State|PostalCode|Region|\n+----------+------------+-------+---+-------+----+-----+----------+------+\n+----------+------------+-------+---+-------+----+-----+----------+------+\n\n"
     ]
    }
   ],
   "source": [
    "# Filter out rows with null or empty values in specific columns\n",
    "customer_empty_rows2 = spark_df_customer.filter((spark_df_customer[\"Region\"].isNull() | spark_df_customer[\"Age\"].eqNullSafe(\"\")) | (spark_df_customer[\"City\"].isNull()))\n",
    "\n",
    "# Show the resulting DataFrame\n",
    "customer_empty_rows2.show()\n"
   ]
  },
  {
   "cell_type": "code",
   "execution_count": 0,
   "metadata": {
    "application/vnd.databricks.v1+cell": {
     "cellMetadata": {},
     "inputWidgets": {},
     "nuid": "77fb4bb9-ce3d-4f03-8fdf-34efeed2786b",
     "showTitle": false,
     "title": ""
    }
   },
   "outputs": [],
   "source": [
    "# # Handling missing data\n",
    "\n",
    "# # Drop rows with null values in specified columns\n",
    "# customer_null_data = spark_df_customer.na.drop(subset=[\"sub_category\", \"unit_price\"])\n",
    "\n",
    "# # Fill null values in specified columns\n",
    "# filled_df = spark_df.na.fill({\"sub_category\": 'empty', \"unit_price\": 0})\n",
    "\n",
    "# print(cleaned_df)\n",
    "# print(filled_df)"
   ]
  }
 ],
 "metadata": {
  "application/vnd.databricks.v1+notebook": {
   "dashboards": [],
   "language": "python",
   "notebookMetadata": {
    "mostRecentlyExecutedCommandWithImplicitDF": {
     "commandId": 2732090876259120,
     "dataframes": [
      "_sqldf"
     ]
    },
    "pythonIndentUnit": 4
   },
   "notebookName": "2024_04_29_spark2pandas2polars_sql",
   "widgets": {}
  }
 },
 "nbformat": 4,
 "nbformat_minor": 0
}
